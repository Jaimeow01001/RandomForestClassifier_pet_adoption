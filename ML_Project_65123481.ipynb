{
 "cells": [
  {
   "cell_type": "code",
   "id": "initial_id",
   "metadata": {
    "collapsed": true,
    "ExecuteTime": {
     "end_time": "2024-09-14T17:19:30.299101Z",
     "start_time": "2024-09-14T17:19:30.293563Z"
    }
   },
   "source": [
    "#import library\n",
    "import numpy as np\n",
    "import pandas as pd\n",
    "import matplotlib.pyplot as plt\n",
    "import seaborn as sns\n",
    "from sklearn.preprocessing import StandardScaler\n",
    "from sklearn.preprocessing import LabelEncoder, OneHotEncoder\n",
    "from sklearn.model_selection import train_test_split\n",
    "from sklearn.model_selection import StratifiedKFold\n",
    "from sklearn.model_selection import GridSearchCV\n",
    "from sklearn.ensemble import RandomForestClassifier\n",
    "from sklearn.multioutput import MultiOutputClassifier\n",
    "from sklearn.model_selection import KFold\n",
    "from sklearn.metrics import classification_report\n",
    "from sklearn.metrics import accuracy_score, precision_score, recall_score, f1_score\n",
    "import joblib\n",
    "from sklearn.metrics import roc_curve, auc, roc_auc_score\n",
    "from sklearn.preprocessing import label_binarize\n",
    "from sklearn.utils import resample\n",
    "from sklearn.neural_network import MLPClassifier\n",
    "from sklearn.svm import SVC\n",
    "from sklearn.neighbors import KNeighborsClassifier\n",
    "from sklearn.tree import DecisionTreeClassifier\n",
    "from sklearn.naive_bayes import GaussianNB\n",
    "from sklearn.linear_model import LogisticRegression\n",
    "from sklearn.naive_bayes import BernoulliNB"
   ],
   "outputs": [],
   "execution_count": 5
  },
  {
   "metadata": {
    "ExecuteTime": {
     "end_time": "2024-09-14T17:16:03.869821Z",
     "start_time": "2024-09-14T17:16:03.857589Z"
    }
   },
   "cell_type": "code",
   "source": [
    "# Load dataset\n",
    "df = pd.read_csv('pet_adoption_data.csv',encoding='latin-1')\n",
    "df.head()"
   ],
   "id": "c72436e428f53467",
   "outputs": [
    {
     "data": {
      "text/plain": [
       "   PetID PetType             Breed  AgeMonths   Color    Size   WeightKg  \\\n",
       "0    500    Bird          Parakeet        131  Orange   Large   5.039768   \n",
       "1    501  Rabbit            Rabbit         73   White   Large  16.086727   \n",
       "2    502     Dog  Golden Retriever        136  Orange  Medium   2.076286   \n",
       "3    503    Bird          Parakeet         97   White   Small   3.339423   \n",
       "4    504  Rabbit            Rabbit        123    Gray   Large  20.498100   \n",
       "\n",
       "   Vaccinated  HealthCondition  TimeInShelterDays  AdoptionFee  PreviousOwner  \\\n",
       "0           1                0                 27          140              0   \n",
       "1           0                0                  8          235              0   \n",
       "2           0                0                 85          385              0   \n",
       "3           0                0                 61          217              1   \n",
       "4           0                0                 28           14              1   \n",
       "\n",
       "   AdoptionLikelihood  \n",
       "0                   0  \n",
       "1                   0  \n",
       "2                   0  \n",
       "3                   0  \n",
       "4                   0  "
      ],
      "text/html": [
       "<div>\n",
       "<style scoped>\n",
       "    .dataframe tbody tr th:only-of-type {\n",
       "        vertical-align: middle;\n",
       "    }\n",
       "\n",
       "    .dataframe tbody tr th {\n",
       "        vertical-align: top;\n",
       "    }\n",
       "\n",
       "    .dataframe thead th {\n",
       "        text-align: right;\n",
       "    }\n",
       "</style>\n",
       "<table border=\"1\" class=\"dataframe\">\n",
       "  <thead>\n",
       "    <tr style=\"text-align: right;\">\n",
       "      <th></th>\n",
       "      <th>PetID</th>\n",
       "      <th>PetType</th>\n",
       "      <th>Breed</th>\n",
       "      <th>AgeMonths</th>\n",
       "      <th>Color</th>\n",
       "      <th>Size</th>\n",
       "      <th>WeightKg</th>\n",
       "      <th>Vaccinated</th>\n",
       "      <th>HealthCondition</th>\n",
       "      <th>TimeInShelterDays</th>\n",
       "      <th>AdoptionFee</th>\n",
       "      <th>PreviousOwner</th>\n",
       "      <th>AdoptionLikelihood</th>\n",
       "    </tr>\n",
       "  </thead>\n",
       "  <tbody>\n",
       "    <tr>\n",
       "      <th>0</th>\n",
       "      <td>500</td>\n",
       "      <td>Bird</td>\n",
       "      <td>Parakeet</td>\n",
       "      <td>131</td>\n",
       "      <td>Orange</td>\n",
       "      <td>Large</td>\n",
       "      <td>5.039768</td>\n",
       "      <td>1</td>\n",
       "      <td>0</td>\n",
       "      <td>27</td>\n",
       "      <td>140</td>\n",
       "      <td>0</td>\n",
       "      <td>0</td>\n",
       "    </tr>\n",
       "    <tr>\n",
       "      <th>1</th>\n",
       "      <td>501</td>\n",
       "      <td>Rabbit</td>\n",
       "      <td>Rabbit</td>\n",
       "      <td>73</td>\n",
       "      <td>White</td>\n",
       "      <td>Large</td>\n",
       "      <td>16.086727</td>\n",
       "      <td>0</td>\n",
       "      <td>0</td>\n",
       "      <td>8</td>\n",
       "      <td>235</td>\n",
       "      <td>0</td>\n",
       "      <td>0</td>\n",
       "    </tr>\n",
       "    <tr>\n",
       "      <th>2</th>\n",
       "      <td>502</td>\n",
       "      <td>Dog</td>\n",
       "      <td>Golden Retriever</td>\n",
       "      <td>136</td>\n",
       "      <td>Orange</td>\n",
       "      <td>Medium</td>\n",
       "      <td>2.076286</td>\n",
       "      <td>0</td>\n",
       "      <td>0</td>\n",
       "      <td>85</td>\n",
       "      <td>385</td>\n",
       "      <td>0</td>\n",
       "      <td>0</td>\n",
       "    </tr>\n",
       "    <tr>\n",
       "      <th>3</th>\n",
       "      <td>503</td>\n",
       "      <td>Bird</td>\n",
       "      <td>Parakeet</td>\n",
       "      <td>97</td>\n",
       "      <td>White</td>\n",
       "      <td>Small</td>\n",
       "      <td>3.339423</td>\n",
       "      <td>0</td>\n",
       "      <td>0</td>\n",
       "      <td>61</td>\n",
       "      <td>217</td>\n",
       "      <td>1</td>\n",
       "      <td>0</td>\n",
       "    </tr>\n",
       "    <tr>\n",
       "      <th>4</th>\n",
       "      <td>504</td>\n",
       "      <td>Rabbit</td>\n",
       "      <td>Rabbit</td>\n",
       "      <td>123</td>\n",
       "      <td>Gray</td>\n",
       "      <td>Large</td>\n",
       "      <td>20.498100</td>\n",
       "      <td>0</td>\n",
       "      <td>0</td>\n",
       "      <td>28</td>\n",
       "      <td>14</td>\n",
       "      <td>1</td>\n",
       "      <td>0</td>\n",
       "    </tr>\n",
       "  </tbody>\n",
       "</table>\n",
       "</div>"
      ]
     },
     "execution_count": 4,
     "metadata": {},
     "output_type": "execute_result"
    }
   ],
   "execution_count": 4
  },
  {
   "metadata": {
    "ExecuteTime": {
     "end_time": "2024-09-14T17:19:32.408660Z",
     "start_time": "2024-09-14T17:19:32.403693Z"
    }
   },
   "cell_type": "code",
   "source": [
    "#show row and column \n",
    "df.shape"
   ],
   "id": "7d3e4a0ecb3c546b",
   "outputs": [
    {
     "data": {
      "text/plain": [
       "(2007, 13)"
      ]
     },
     "execution_count": 6,
     "metadata": {},
     "output_type": "execute_result"
    }
   ],
   "execution_count": 6
  },
  {
   "metadata": {
    "ExecuteTime": {
     "end_time": "2024-09-14T17:19:33.491812Z",
     "start_time": "2024-09-14T17:19:33.487582Z"
    }
   },
   "cell_type": "code",
   "source": [
    "# drop column PetID\n",
    "df.drop('PetID', axis=1, inplace=True)"
   ],
   "id": "fe6934fc46b4b7f8",
   "outputs": [],
   "execution_count": 7
  },
  {
   "metadata": {
    "ExecuteTime": {
     "end_time": "2024-09-14T17:19:34.439353Z",
     "start_time": "2024-09-14T17:19:34.433353Z"
    }
   },
   "cell_type": "code",
   "source": [
    "#find missing data\n",
    "df.isnull().sum()"
   ],
   "id": "19ee699636bc5ad4",
   "outputs": [
    {
     "data": {
      "text/plain": [
       "PetType               0\n",
       "Breed                 0\n",
       "AgeMonths             0\n",
       "Color                 0\n",
       "Size                  0\n",
       "WeightKg              0\n",
       "Vaccinated            0\n",
       "HealthCondition       0\n",
       "TimeInShelterDays     0\n",
       "AdoptionFee           0\n",
       "PreviousOwner         0\n",
       "AdoptionLikelihood    0\n",
       "dtype: int64"
      ]
     },
     "execution_count": 8,
     "metadata": {},
     "output_type": "execute_result"
    }
   ],
   "execution_count": 8
  },
  {
   "metadata": {
    "ExecuteTime": {
     "end_time": "2024-09-14T17:19:36.439083Z",
     "start_time": "2024-09-14T17:19:36.420084Z"
    }
   },
   "cell_type": "code",
   "source": [
    "#find max min count mean and data type\n",
    "df.describe(include='all').T[['count','mean', 'min', 'max']]"
   ],
   "id": "fa30b11575615f35",
   "outputs": [
    {
     "data": {
      "text/plain": [
       "                     count        mean       min        max\n",
       "PetType               2007         NaN       NaN        NaN\n",
       "Breed                 2007         NaN       NaN        NaN\n",
       "AgeMonths           2007.0   92.279522       1.0      179.0\n",
       "Color                 2007         NaN       NaN        NaN\n",
       "Size                  2007         NaN       NaN        NaN\n",
       "WeightKg            2007.0   15.705776  1.018198  29.995628\n",
       "Vaccinated          2007.0    0.701046       0.0        1.0\n",
       "HealthCondition     2007.0    0.196313       0.0        1.0\n",
       "TimeInShelterDays   2007.0   43.974091       1.0       89.0\n",
       "AdoptionFee         2007.0  249.142003       0.0      499.0\n",
       "PreviousOwner       2007.0    0.301943       0.0        1.0\n",
       "AdoptionLikelihood  2007.0    0.328351       0.0        1.0"
      ],
      "text/html": [
       "<div>\n",
       "<style scoped>\n",
       "    .dataframe tbody tr th:only-of-type {\n",
       "        vertical-align: middle;\n",
       "    }\n",
       "\n",
       "    .dataframe tbody tr th {\n",
       "        vertical-align: top;\n",
       "    }\n",
       "\n",
       "    .dataframe thead th {\n",
       "        text-align: right;\n",
       "    }\n",
       "</style>\n",
       "<table border=\"1\" class=\"dataframe\">\n",
       "  <thead>\n",
       "    <tr style=\"text-align: right;\">\n",
       "      <th></th>\n",
       "      <th>count</th>\n",
       "      <th>mean</th>\n",
       "      <th>min</th>\n",
       "      <th>max</th>\n",
       "    </tr>\n",
       "  </thead>\n",
       "  <tbody>\n",
       "    <tr>\n",
       "      <th>PetType</th>\n",
       "      <td>2007</td>\n",
       "      <td>NaN</td>\n",
       "      <td>NaN</td>\n",
       "      <td>NaN</td>\n",
       "    </tr>\n",
       "    <tr>\n",
       "      <th>Breed</th>\n",
       "      <td>2007</td>\n",
       "      <td>NaN</td>\n",
       "      <td>NaN</td>\n",
       "      <td>NaN</td>\n",
       "    </tr>\n",
       "    <tr>\n",
       "      <th>AgeMonths</th>\n",
       "      <td>2007.0</td>\n",
       "      <td>92.279522</td>\n",
       "      <td>1.0</td>\n",
       "      <td>179.0</td>\n",
       "    </tr>\n",
       "    <tr>\n",
       "      <th>Color</th>\n",
       "      <td>2007</td>\n",
       "      <td>NaN</td>\n",
       "      <td>NaN</td>\n",
       "      <td>NaN</td>\n",
       "    </tr>\n",
       "    <tr>\n",
       "      <th>Size</th>\n",
       "      <td>2007</td>\n",
       "      <td>NaN</td>\n",
       "      <td>NaN</td>\n",
       "      <td>NaN</td>\n",
       "    </tr>\n",
       "    <tr>\n",
       "      <th>WeightKg</th>\n",
       "      <td>2007.0</td>\n",
       "      <td>15.705776</td>\n",
       "      <td>1.018198</td>\n",
       "      <td>29.995628</td>\n",
       "    </tr>\n",
       "    <tr>\n",
       "      <th>Vaccinated</th>\n",
       "      <td>2007.0</td>\n",
       "      <td>0.701046</td>\n",
       "      <td>0.0</td>\n",
       "      <td>1.0</td>\n",
       "    </tr>\n",
       "    <tr>\n",
       "      <th>HealthCondition</th>\n",
       "      <td>2007.0</td>\n",
       "      <td>0.196313</td>\n",
       "      <td>0.0</td>\n",
       "      <td>1.0</td>\n",
       "    </tr>\n",
       "    <tr>\n",
       "      <th>TimeInShelterDays</th>\n",
       "      <td>2007.0</td>\n",
       "      <td>43.974091</td>\n",
       "      <td>1.0</td>\n",
       "      <td>89.0</td>\n",
       "    </tr>\n",
       "    <tr>\n",
       "      <th>AdoptionFee</th>\n",
       "      <td>2007.0</td>\n",
       "      <td>249.142003</td>\n",
       "      <td>0.0</td>\n",
       "      <td>499.0</td>\n",
       "    </tr>\n",
       "    <tr>\n",
       "      <th>PreviousOwner</th>\n",
       "      <td>2007.0</td>\n",
       "      <td>0.301943</td>\n",
       "      <td>0.0</td>\n",
       "      <td>1.0</td>\n",
       "    </tr>\n",
       "    <tr>\n",
       "      <th>AdoptionLikelihood</th>\n",
       "      <td>2007.0</td>\n",
       "      <td>0.328351</td>\n",
       "      <td>0.0</td>\n",
       "      <td>1.0</td>\n",
       "    </tr>\n",
       "  </tbody>\n",
       "</table>\n",
       "</div>"
      ]
     },
     "execution_count": 9,
     "metadata": {},
     "output_type": "execute_result"
    }
   ],
   "execution_count": 9
  },
  {
   "metadata": {
    "ExecuteTime": {
     "end_time": "2024-09-14T17:19:37.973312Z",
     "start_time": "2024-09-14T17:19:37.966425Z"
    }
   },
   "cell_type": "code",
   "source": [
    "# Check data type\n",
    "df.info()"
   ],
   "id": "812d70c3e2b5feca",
   "outputs": [
    {
     "name": "stdout",
     "output_type": "stream",
     "text": [
      "<class 'pandas.core.frame.DataFrame'>\n",
      "RangeIndex: 2007 entries, 0 to 2006\n",
      "Data columns (total 12 columns):\n",
      " #   Column              Non-Null Count  Dtype  \n",
      "---  ------              --------------  -----  \n",
      " 0   PetType             2007 non-null   object \n",
      " 1   Breed               2007 non-null   object \n",
      " 2   AgeMonths           2007 non-null   int64  \n",
      " 3   Color               2007 non-null   object \n",
      " 4   Size                2007 non-null   object \n",
      " 5   WeightKg            2007 non-null   float64\n",
      " 6   Vaccinated          2007 non-null   int64  \n",
      " 7   HealthCondition     2007 non-null   int64  \n",
      " 8   TimeInShelterDays   2007 non-null   int64  \n",
      " 9   AdoptionFee         2007 non-null   int64  \n",
      " 10  PreviousOwner       2007 non-null   int64  \n",
      " 11  AdoptionLikelihood  2007 non-null   int64  \n",
      "dtypes: float64(1), int64(7), object(4)\n",
      "memory usage: 188.3+ KB\n"
     ]
    }
   ],
   "execution_count": 10
  },
  {
   "metadata": {
    "ExecuteTime": {
     "end_time": "2024-09-14T17:19:39.445651Z",
     "start_time": "2024-09-14T17:19:39.441583Z"
    }
   },
   "cell_type": "code",
   "source": [
    "#copy df to df1 \n",
    "df1 = df.copy()"
   ],
   "id": "9c3f31a64dd3143",
   "outputs": [],
   "execution_count": 11
  },
  {
   "metadata": {
    "ExecuteTime": {
     "end_time": "2024-09-14T17:19:40.848277Z",
     "start_time": "2024-09-14T17:19:40.592274Z"
    }
   },
   "cell_type": "code",
   "source": [
    "#correlations between features\n",
    "numeric_df1 = df1.select_dtypes(include=['int','float'])\n",
    "corr=numeric_df1.corr()\n",
    "plt.figure(figsize=(15, 10))\n",
    "sns.heatmap(corr, annot=True, cmap='PuBu', linewidths=0.1)\n",
    "plt.show()"
   ],
   "id": "bcf59a0bf6b2b8e0",
   "outputs": [
    {
     "data": {
      "text/plain": [
       "<Figure size 1500x1000 with 2 Axes>"
      ],
      "image/png": "[encoded data removed]"
     },
     "metadata": {},
     "output_type": "display_data"
    }
   ],
   "execution_count": 12
  },
  {
   "metadata": {
    "ExecuteTime": {
     "end_time": "2024-09-14T17:19:43.202106Z",
     "start_time": "2024-09-14T17:19:43.196529Z"
    }
   },
   "cell_type": "code",
   "source": [
    "one_hot_encoding = OneHotEncoder(sparse_output=False)\n",
    "one_hot_encoding"
   ],
   "id": "e2286fd4c16fd0cd",
   "outputs": [
    {
     "data": {
      "text/plain": [
       "OneHotEncoder(sparse_output=False)"
      ],
      "text/html": [
       "<style>#sk-container-id-1 {\n",
       "  /* Definition of color scheme common for light and dark mode */\n",
       "  --sklearn-color-text: black;\n",
       "  --sklearn-color-line: gray;\n",
       "  /* Definition of color scheme for unfitted estimators */\n",
       "  --sklearn-color-unfitted-level-0: #fff5e6;\n",
       "  --sklearn-color-unfitted-level-1: #f6e4d2;\n",
       "  --sklearn-color-unfitted-level-2: #ffe0b3;\n",
       "  --sklearn-color-unfitted-level-3: chocolate;\n",
       "  /* Definition of color scheme for fitted estimators */\n",
       "  --sklearn-color-fitted-level-0: #f0f8ff;\n",
       "  --sklearn-color-fitted-level-1: #d4ebff;\n",
       "  --sklearn-color-fitted-level-2: #b3dbfd;\n",
       "  --sklearn-color-fitted-level-3: cornflowerblue;\n",
       "\n",
       "  /* Specific color for light theme */\n",
       "  --sklearn-color-text-on-default-background: var(--sg-text-color, var(--theme-code-foreground, var(--jp-content-font-color1, black)));\n",
       "  --sklearn-color-background: var(--sg-background-color, var(--theme-background, var(--jp-layout-color0, white)));\n",
       "  --sklearn-color-border-box: var(--sg-text-color, var(--theme-code-foreground, var(--jp-content-font-color1, black)));\n",
       "  --sklearn-color-icon: #696969;\n",
       "\n",
       "  @media (prefers-color-scheme: dark) {\n",
       "    /* Redefinition of color scheme for dark theme */\n",
       "    --sklearn-color-text-on-default-background: var(--sg-text-color, var(--theme-code-foreground, var(--jp-content-font-color1, white)));\n",
       "    --sklearn-color-background: var(--sg-background-color, var(--theme-background, var(--jp-layout-color0, #111)));\n",
       "    --sklearn-color-border-box: var(--sg-text-color, var(--theme-code-foreground, var(--jp-content-font-color1, white)));\n",
       "    --sklearn-color-icon: #878787;\n",
       "  }\n",
       "}\n",
       "\n",
       "#sk-container-id-1 {\n",
       "  color: var(--sklearn-color-text);\n",
       "}\n",
       "\n",
       "#sk-container-id-1 pre {\n",
       "  padding: 0;\n",
       "}\n",
       "\n",
       "#sk-container-id-1 input.sk-hidden--visually {\n",
       "  border: 0;\n",
       "  clip: rect(1px 1px 1px 1px);\n",
       "  clip: rect(1px, 1px, 1px, 1px);\n",
       "  height: 1px;\n",
       "  margin: -1px;\n",
       "  overflow: hidden;\n",
       "  padding: 0;\n",
       "  position: absolute;\n",
       "  width: 1px;\n",
       "}\n",
       "\n",
       "#sk-container-id-1 div.sk-dashed-wrapped {\n",
       "  border: 1px dashed var(--sklearn-color-line);\n",
       "  margin: 0 0.4em 0.5em 0.4em;\n",
       "  box-sizing: border-box;\n",
       "  padding-bottom: 0.4em;\n",
       "  background-color: var(--sklearn-color-background);\n",
       "}\n",
       "\n",
       "#sk-container-id-1 div.sk-container {\n",
       "  /* jupyter's `normalize.less` sets `[hidden] { display: none; }`\n",
       "     but bootstrap.min.css set `[hidden] { display: none !important; }`\n",
       "     so we also need the `!important` here to be able to override the\n",
       "     default hidden behavior on the sphinx rendered scikit-learn.org.\n",
       "     See: https://github.com/scikit-learn/scikit-learn/issues/21755 */\n",
       "  display: inline-block !important;\n",
       "  position: relative;\n",
       "}\n",
       "\n",
       "#sk-container-id-1 div.sk-text-repr-fallback {\n",
       "  display: none;\n",
       "}\n",
       "\n",
       "div.sk-parallel-item,\n",
       "div.sk-serial,\n",
       "div.sk-item {\n",
       "  /* draw centered vertical line to link estimators */\n",
       "  background-image: linear-gradient(var(--sklearn-color-text-on-default-background), var(--sklearn-color-text-on-default-background));\n",
       "  background-size: 2px 100%;\n",
       "  background-repeat: no-repeat;\n",
       "  background-position: center center;\n",
       "}\n",
       "\n",
       "/* Parallel-specific style estimator block */\n",
       "\n",
       "#sk-container-id-1 div.sk-parallel-item::after {\n",
       "  content: \"\";\n",
       "  width: 100%;\n",
       "  border-bottom: 2px solid var(--sklearn-color-text-on-default-background);\n",
       "  flex-grow: 1;\n",
       "}\n",
       "\n",
       "#sk-container-id-1 div.sk-parallel {\n",
       "  display: flex;\n",
       "  align-items: stretch;\n",
       "  justify-content: center;\n",
       "  background-color: var(--sklearn-color-background);\n",
       "  position: relative;\n",
       "}\n",
       "\n",
       "#sk-container-id-1 div.sk-parallel-item {\n",
       "  display: flex;\n",
       "  flex-direction: column;\n",
       "}\n",
       "\n",
       "#sk-container-id-1 div.sk-parallel-item:first-child::after {\n",
       "  align-self: flex-end;\n",
       "  width: 50%;\n",
       "}\n",
       "\n",
       "#sk-container-id-1 div.sk-parallel-item:last-child::after {\n",
       "  align-self: flex-start;\n",
       "  width: 50%;\n",
       "}\n",
       "\n",
       "#sk-container-id-1 div.sk-parallel-item:only-child::after {\n",
       "  width: 0;\n",
       "}\n",
       "\n",
       "/* Serial-specific style estimator block */\n",
       "\n",
       "#sk-container-id-1 div.sk-serial {\n",
       "  display: flex;\n",
       "  flex-direction: column;\n",
       "  align-items: center;\n",
       "  background-color: var(--sklearn-color-background);\n",
       "  padding-right: 1em;\n",
       "  padding-left: 1em;\n",
       "}\n",
       "\n",
       "\n",
       "/* Toggleable style: style used for estimator/Pipeline/ColumnTransformer box that is\n",
       "clickable and can be expanded/collapsed.\n",
       "- Pipeline and ColumnTransformer use this feature and define the default style\n",
       "- Estimators will overwrite some part of the style using the `sk-estimator` class\n",
       "*/\n",
       "\n",
       "/* Pipeline and ColumnTransformer style (default) */\n",
       "\n",
       "#sk-container-id-1 div.sk-toggleable {\n",
       "  /* Default theme specific background. It is overwritten whether we have a\n",
       "  specific estimator or a Pipeline/ColumnTransformer */\n",
       "  background-color: var(--sklearn-color-background);\n",
       "}\n",
       "\n",
       "/* Toggleable label */\n",
       "#sk-container-id-1 label.sk-toggleable__label {\n",
       "  cursor: pointer;\n",
       "  display: block;\n",
       "  width: 100%;\n",
       "  margin-bottom: 0;\n",
       "  padding: 0.5em;\n",
       "  box-sizing: border-box;\n",
       "  text-align: center;\n",
       "}\n",
       "\n",
       "#sk-container-id-1 label.sk-toggleable__label-arrow:before {\n",
       "  /* Arrow on the left of the label */\n",
       "  content: \"▸\";\n",
       "  float: left;\n",
       "  margin-right: 0.25em;\n",
       "  color: var(--sklearn-color-icon);\n",
       "}\n",
       "\n",
       "#sk-container-id-1 label.sk-toggleable__label-arrow:hover:before {\n",
       "  color: var(--sklearn-color-text);\n",
       "}\n",
       "\n",
       "/* Toggleable content - dropdown */\n",
       "\n",
       "#sk-container-id-1 div.sk-toggleable__content {\n",
       "  max-height: 0;\n",
       "  max-width: 0;\n",
       "  overflow: hidden;\n",
       "  text-align: left;\n",
       "  /* unfitted */\n",
       "  background-color: var(--sklearn-color-unfitted-level-0);\n",
       "}\n",
       "\n",
       "#sk-container-id-1 div.sk-toggleable__content.fitted {\n",
       "  /* fitted */\n",
       "  background-color: var(--sklearn-color-fitted-level-0);\n",
       "}\n",
       "\n",
       "#sk-container-id-1 div.sk-toggleable__content pre {\n",
       "  margin: 0.2em;\n",
       "  border-radius: 0.25em;\n",
       "  color: var(--sklearn-color-text);\n",
       "  /* unfitted */\n",
       "  background-color: var(--sklearn-color-unfitted-level-0);\n",
       "}\n",
       "\n",
       "#sk-container-id-1 div.sk-toggleable__content.fitted pre {\n",
       "  /* unfitted */\n",
       "  background-color: var(--sklearn-color-fitted-level-0);\n",
       "}\n",
       "\n",
       "#sk-container-id-1 input.sk-toggleable__control:checked~div.sk-toggleable__content {\n",
       "  /* Expand drop-down */\n",
       "  max-height: 200px;\n",
       "  max-width: 100%;\n",
       "  overflow: auto;\n",
       "}\n",
       "\n",
       "#sk-container-id-1 input.sk-toggleable__control:checked~label.sk-toggleable__label-arrow:before {\n",
       "  content: \"▾\";\n",
       "}\n",
       "\n",
       "/* Pipeline/ColumnTransformer-specific style */\n",
       "\n",
       "#sk-container-id-1 div.sk-label input.sk-toggleable__control:checked~label.sk-toggleable__label {\n",
       "  color: var(--sklearn-color-text);\n",
       "  background-color: var(--sklearn-color-unfitted-level-2);\n",
       "}\n",
       "\n",
       "#sk-container-id-1 div.sk-label.fitted input.sk-toggleable__control:checked~label.sk-toggleable__label {\n",
       "  background-color: var(--sklearn-color-fitted-level-2);\n",
       "}\n",
       "\n",
       "/* Estimator-specific style */\n",
       "\n",
       "/* Colorize estimator box */\n",
       "#sk-container-id-1 div.sk-estimator input.sk-toggleable__control:checked~label.sk-toggleable__label {\n",
       "  /* unfitted */\n",
       "  background-color: var(--sklearn-color-unfitted-level-2);\n",
       "}\n",
       "\n",
       "#sk-container-id-1 div.sk-estimator.fitted input.sk-toggleable__control:checked~label.sk-toggleable__label {\n",
       "  /* fitted */\n",
       "  background-color: var(--sklearn-color-fitted-level-2);\n",
       "}\n",
       "\n",
       "#sk-container-id-1 div.sk-label label.sk-toggleable__label,\n",
       "#sk-container-id-1 div.sk-label label {\n",
       "  /* The background is the default theme color */\n",
       "  color: var(--sklearn-color-text-on-default-background);\n",
       "}\n",
       "\n",
       "/* On hover, darken the color of the background */\n",
       "#sk-container-id-1 div.sk-label:hover label.sk-toggleable__label {\n",
       "  color: var(--sklearn-color-text);\n",
       "  background-color: var(--sklearn-color-unfitted-level-2);\n",
       "}\n",
       "\n",
       "/* Label box, darken color on hover, fitted */\n",
       "#sk-container-id-1 div.sk-label.fitted:hover label.sk-toggleable__label.fitted {\n",
       "  color: var(--sklearn-color-text);\n",
       "  background-color: var(--sklearn-color-fitted-level-2);\n",
       "}\n",
       "\n",
       "/* Estimator label */\n",
       "\n",
       "#sk-container-id-1 div.sk-label label {\n",
       "  font-family: monospace;\n",
       "  font-weight: bold;\n",
       "  display: inline-block;\n",
       "  line-height: 1.2em;\n",
       "}\n",
       "\n",
       "#sk-container-id-1 div.sk-label-container {\n",
       "  text-align: center;\n",
       "}\n",
       "\n",
       "/* Estimator-specific */\n",
       "#sk-container-id-1 div.sk-estimator {\n",
       "  font-family: monospace;\n",
       "  border: 1px dotted var(--sklearn-color-border-box);\n",
       "  border-radius: 0.25em;\n",
       "  box-sizing: border-box;\n",
       "  margin-bottom: 0.5em;\n",
       "  /* unfitted */\n",
       "  background-color: var(--sklearn-color-unfitted-level-0);\n",
       "}\n",
       "\n",
       "#sk-container-id-1 div.sk-estimator.fitted {\n",
       "  /* fitted */\n",
       "  background-color: var(--sklearn-color-fitted-level-0);\n",
       "}\n",
       "\n",
       "/* on hover */\n",
       "#sk-container-id-1 div.sk-estimator:hover {\n",
       "  /* unfitted */\n",
       "  background-color: var(--sklearn-color-unfitted-level-2);\n",
       "}\n",
       "\n",
       "#sk-container-id-1 div.sk-estimator.fitted:hover {\n",
       "  /* fitted */\n",
       "  background-color: var(--sklearn-color-fitted-level-2);\n",
       "}\n",
       "\n",
       "/* Specification for estimator info (e.g. \"i\" and \"?\") */\n",
       "\n",
       "/* Common style for \"i\" and \"?\" */\n",
       "\n",
       ".sk-estimator-doc-link,\n",
       "a:link.sk-estimator-doc-link,\n",
       "a:visited.sk-estimator-doc-link {\n",
       "  float: right;\n",
       "  font-size: smaller;\n",
       "  line-height: 1em;\n",
       "  font-family: monospace;\n",
       "  background-color: var(--sklearn-color-background);\n",
       "  border-radius: 1em;\n",
       "  height: 1em;\n",
       "  width: 1em;\n",
       "  text-decoration: none !important;\n",
       "  margin-left: 1ex;\n",
       "  /* unfitted */\n",
       "  border: var(--sklearn-color-unfitted-level-1) 1pt solid;\n",
       "  color: var(--sklearn-color-unfitted-level-1);\n",
       "}\n",
       "\n",
       ".sk-estimator-doc-link.fitted,\n",
       "a:link.sk-estimator-doc-link.fitted,\n",
       "a:visited.sk-estimator-doc-link.fitted {\n",
       "  /* fitted */\n",
       "  border: var(--sklearn-color-fitted-level-1) 1pt solid;\n",
       "  color: var(--sklearn-color-fitted-level-1);\n",
       "}\n",
       "\n",
       "/* On hover */\n",
       "div.sk-estimator:hover .sk-estimator-doc-link:hover,\n",
       ".sk-estimator-doc-link:hover,\n",
       "div.sk-label-container:hover .sk-estimator-doc-link:hover,\n",
       ".sk-estimator-doc-link:hover {\n",
       "  /* unfitted */\n",
       "  background-color: var(--sklearn-color-unfitted-level-3);\n",
       "  color: var(--sklearn-color-background);\n",
       "  text-decoration: none;\n",
       "}\n",
       "\n",
       "div.sk-estimator.fitted:hover .sk-estimator-doc-link.fitted:hover,\n",
       ".sk-estimator-doc-link.fitted:hover,\n",
       "div.sk-label-container:hover .sk-estimator-doc-link.fitted:hover,\n",
       ".sk-estimator-doc-link.fitted:hover {\n",
       "  /* fitted */\n",
       "  background-color: var(--sklearn-color-fitted-level-3);\n",
       "  color: var(--sklearn-color-background);\n",
       "  text-decoration: none;\n",
       "}\n",
       "\n",
       "/* Span, style for the box shown on hovering the info icon */\n",
       ".sk-estimator-doc-link span {\n",
       "  display: none;\n",
       "  z-index: 9999;\n",
       "  position: relative;\n",
       "  font-weight: normal;\n",
       "  right: .2ex;\n",
       "  padding: .5ex;\n",
       "  margin: .5ex;\n",
       "  width: min-content;\n",
       "  min-width: 20ex;\n",
       "  max-width: 50ex;\n",
       "  color: var(--sklearn-color-text);\n",
       "  box-shadow: 2pt 2pt 4pt #999;\n",
       "  /* unfitted */\n",
       "  background: var(--sklearn-color-unfitted-level-0);\n",
       "  border: .5pt solid var(--sklearn-color-unfitted-level-3);\n",
       "}\n",
       "\n",
       ".sk-estimator-doc-link.fitted span {\n",
       "  /* fitted */\n",
       "  background: var(--sklearn-color-fitted-level-0);\n",
       "  border: var(--sklearn-color-fitted-level-3);\n",
       "}\n",
       "\n",
       ".sk-estimator-doc-link:hover span {\n",
       "  display: block;\n",
       "}\n",
       "\n",
       "/* \"?\"-specific style due to the `<a>` HTML tag */\n",
       "\n",
       "#sk-container-id-1 a.estimator_doc_link {\n",
       "  float: right;\n",
       "  font-size: 1rem;\n",
       "  line-height: 1em;\n",
       "  font-family: monospace;\n",
       "  background-color: var(--sklearn-color-background);\n",
       "  border-radius: 1rem;\n",
       "  height: 1rem;\n",
       "  width: 1rem;\n",
       "  text-decoration: none;\n",
       "  /* unfitted */\n",
       "  color: var(--sklearn-color-unfitted-level-1);\n",
       "  border: var(--sklearn-color-unfitted-level-1) 1pt solid;\n",
       "}\n",
       "\n",
       "#sk-container-id-1 a.estimator_doc_link.fitted {\n",
       "  /* fitted */\n",
       "  border: var(--sklearn-color-fitted-level-1) 1pt solid;\n",
       "  color: var(--sklearn-color-fitted-level-1);\n",
       "}\n",
       "\n",
       "/* On hover */\n",
       "#sk-container-id-1 a.estimator_doc_link:hover {\n",
       "  /* unfitted */\n",
       "  background-color: var(--sklearn-color-unfitted-level-3);\n",
       "  color: var(--sklearn-color-background);\n",
       "  text-decoration: none;\n",
       "}\n",
       "\n",
       "#sk-container-id-1 a.estimator_doc_link.fitted:hover {\n",
       "  /* fitted */\n",
       "  background-color: var(--sklearn-color-fitted-level-3);\n",
       "}\n",
       "</style><div id=\"sk-container-id-1\" class=\"sk-top-container\"><div class=\"sk-text-repr-fallback\"><pre>OneHotEncoder(sparse_output=False)</pre><b>In a Jupyter environment, please rerun this cell to show the HTML representation or trust the notebook. <br />On GitHub, the HTML representation is unable to render, please try loading this page with nbviewer.org.</b></div><div class=\"sk-container\" hidden><div class=\"sk-item\"><div class=\"sk-estimator  sk-toggleable\"><input class=\"sk-toggleable__control sk-hidden--visually\" id=\"sk-estimator-id-1\" type=\"checkbox\" checked><label for=\"sk-estimator-id-1\" class=\"sk-toggleable__label  sk-toggleable__label-arrow \">&nbsp;&nbsp;OneHotEncoder<a class=\"sk-estimator-doc-link \" rel=\"noreferrer\" target=\"_blank\" href=\"https://scikit-learn.org/1.5/modules/generated/sklearn.preprocessing.OneHotEncoder.html\">?<span>Documentation for OneHotEncoder</span></a><span class=\"sk-estimator-doc-link \">i<span>Not fitted</span></span></label><div class=\"sk-toggleable__content \"><pre>OneHotEncoder(sparse_output=False)</pre></div> </div></div></div></div>"
      ]
     },
     "execution_count": 13,
     "metadata": {},
     "output_type": "execute_result"
    }
   ],
   "execution_count": 13
  },
  {
   "metadata": {
    "ExecuteTime": {
     "end_time": "2024-09-14T17:19:44.290677Z",
     "start_time": "2024-09-14T17:19:44.283978Z"
    }
   },
   "cell_type": "code",
   "source": "df['PetType'].head()",
   "id": "198feb1a06d4a50e",
   "outputs": [
    {
     "data": {
      "text/plain": [
       "0      Bird\n",
       "1    Rabbit\n",
       "2       Dog\n",
       "3      Bird\n",
       "4    Rabbit\n",
       "Name: PetType, dtype: object"
      ]
     },
     "execution_count": 14,
     "metadata": {},
     "output_type": "execute_result"
    }
   ],
   "execution_count": 14
  },
  {
   "metadata": {
    "ExecuteTime": {
     "end_time": "2024-09-14T17:19:45.938606Z",
     "start_time": "2024-09-14T17:19:45.934362Z"
    }
   },
   "cell_type": "code",
   "source": "df['PetType'].unique()",
   "id": "ec4531b7432eb7d7",
   "outputs": [
    {
     "data": {
      "text/plain": [
       "array(['Bird', 'Rabbit', 'Dog', 'Cat'], dtype=object)"
      ]
     },
     "execution_count": 15,
     "metadata": {},
     "output_type": "execute_result"
    }
   ],
   "execution_count": 15
  },
  {
   "metadata": {
    "ExecuteTime": {
     "end_time": "2024-09-14T17:19:46.837049Z",
     "start_time": "2024-09-14T17:19:46.830533Z"
    }
   },
   "cell_type": "code",
   "source": [
    "precip_encoded = one_hot_encoding.fit_transform(df[['PetType']])\n",
    "precip_encoded"
   ],
   "id": "8cfb75d1ad7b417",
   "outputs": [
    {
     "data": {
      "text/plain": [
       "array([[1., 0., 0., 0.],\n",
       "       [0., 0., 0., 1.],\n",
       "       [0., 0., 1., 0.],\n",
       "       ...,\n",
       "       [0., 0., 0., 1.],\n",
       "       [0., 0., 1., 0.],\n",
       "       [0., 0., 0., 1.]])"
      ]
     },
     "execution_count": 16,
     "metadata": {},
     "output_type": "execute_result"
    }
   ],
   "execution_count": 16
  },
  {
   "metadata": {
    "ExecuteTime": {
     "end_time": "2024-09-14T17:19:48.337970Z",
     "start_time": "2024-09-14T17:19:48.332833Z"
    }
   },
   "cell_type": "code",
   "source": [
    "new_column_names = one_hot_encoding.get_feature_names_out()\n",
    "new_column_names"
   ],
   "id": "aea556121c1240e0",
   "outputs": [
    {
     "data": {
      "text/plain": [
       "array(['PetType_Bird', 'PetType_Cat', 'PetType_Dog', 'PetType_Rabbit'],\n",
       "      dtype=object)"
      ]
     },
     "execution_count": 17,
     "metadata": {},
     "output_type": "execute_result"
    }
   ],
   "execution_count": 17
  },
  {
   "metadata": {
    "ExecuteTime": {
     "end_time": "2024-09-14T17:19:49.562030Z",
     "start_time": "2024-09-14T17:19:49.557965Z"
    }
   },
   "cell_type": "code",
   "source": "df1.drop('PetType', axis=1, inplace=True)",
   "id": "2f4d586910845c61",
   "outputs": [],
   "execution_count": 18
  },
  {
   "metadata": {
    "ExecuteTime": {
     "end_time": "2024-09-14T17:19:50.944222Z",
     "start_time": "2024-09-14T17:19:50.936952Z"
    }
   },
   "cell_type": "code",
   "source": "df1.head()",
   "id": "d9c87e0352aa2ddf",
   "outputs": [
    {
     "data": {
      "text/plain": [
       "              Breed  AgeMonths   Color    Size   WeightKg  Vaccinated  \\\n",
       "0          Parakeet        131  Orange   Large   5.039768           1   \n",
       "1            Rabbit         73   White   Large  16.086727           0   \n",
       "2  Golden Retriever        136  Orange  Medium   2.076286           0   \n",
       "3          Parakeet         97   White   Small   3.339423           0   \n",
       "4            Rabbit        123    Gray   Large  20.498100           0   \n",
       "\n",
       "   HealthCondition  TimeInShelterDays  AdoptionFee  PreviousOwner  \\\n",
       "0                0                 27          140              0   \n",
       "1                0                  8          235              0   \n",
       "2                0                 85          385              0   \n",
       "3                0                 61          217              1   \n",
       "4                0                 28           14              1   \n",
       "\n",
       "   AdoptionLikelihood  \n",
       "0                   0  \n",
       "1                   0  \n",
       "2                   0  \n",
       "3                   0  \n",
       "4                   0  "
      ],
      "text/html": [
       "<div>\n",
       "<style scoped>\n",
       "    .dataframe tbody tr th:only-of-type {\n",
       "        vertical-align: middle;\n",
       "    }\n",
       "\n",
       "    .dataframe tbody tr th {\n",
       "        vertical-align: top;\n",
       "    }\n",
       "\n",
       "    .dataframe thead th {\n",
       "        text-align: right;\n",
       "    }\n",
       "</style>\n",
       "<table border=\"1\" class=\"dataframe\">\n",
       "  <thead>\n",
       "    <tr style=\"text-align: right;\">\n",
       "      <th></th>\n",
       "      <th>Breed</th>\n",
       "      <th>AgeMonths</th>\n",
       "      <th>Color</th>\n",
       "      <th>Size</th>\n",
       "      <th>WeightKg</th>\n",
       "      <th>Vaccinated</th>\n",
       "      <th>HealthCondition</th>\n",
       "      <th>TimeInShelterDays</th>\n",
       "      <th>AdoptionFee</th>\n",
       "      <th>PreviousOwner</th>\n",
       "      <th>AdoptionLikelihood</th>\n",
       "    </tr>\n",
       "  </thead>\n",
       "  <tbody>\n",
       "    <tr>\n",
       "      <th>0</th>\n",
       "      <td>Parakeet</td>\n",
       "      <td>131</td>\n",
       "      <td>Orange</td>\n",
       "      <td>Large</td>\n",
       "      <td>5.039768</td>\n",
       "      <td>1</td>\n",
       "      <td>0</td>\n",
       "      <td>27</td>\n",
       "      <td>140</td>\n",
       "      <td>0</td>\n",
       "      <td>0</td>\n",
       "    </tr>\n",
       "    <tr>\n",
       "      <th>1</th>\n",
       "      <td>Rabbit</td>\n",
       "      <td>73</td>\n",
       "      <td>White</td>\n",
       "      <td>Large</td>\n",
       "      <td>16.086727</td>\n",
       "      <td>0</td>\n",
       "      <td>0</td>\n",
       "      <td>8</td>\n",
       "      <td>235</td>\n",
       "      <td>0</td>\n",
       "      <td>0</td>\n",
       "    </tr>\n",
       "    <tr>\n",
       "      <th>2</th>\n",
       "      <td>Golden Retriever</td>\n",
       "      <td>136</td>\n",
       "      <td>Orange</td>\n",
       "      <td>Medium</td>\n",
       "      <td>2.076286</td>\n",
       "      <td>0</td>\n",
       "      <td>0</td>\n",
       "      <td>85</td>\n",
       "      <td>385</td>\n",
       "      <td>0</td>\n",
       "      <td>0</td>\n",
       "    </tr>\n",
       "    <tr>\n",
       "      <th>3</th>\n",
       "      <td>Parakeet</td>\n",
       "      <td>97</td>\n",
       "      <td>White</td>\n",
       "      <td>Small</td>\n",
       "      <td>3.339423</td>\n",
       "      <td>0</td>\n",
       "      <td>0</td>\n",
       "      <td>61</td>\n",
       "      <td>217</td>\n",
       "      <td>1</td>\n",
       "      <td>0</td>\n",
       "    </tr>\n",
       "    <tr>\n",
       "      <th>4</th>\n",
       "      <td>Rabbit</td>\n",
       "      <td>123</td>\n",
       "      <td>Gray</td>\n",
       "      <td>Large</td>\n",
       "      <td>20.498100</td>\n",
       "      <td>0</td>\n",
       "      <td>0</td>\n",
       "      <td>28</td>\n",
       "      <td>14</td>\n",
       "      <td>1</td>\n",
       "      <td>0</td>\n",
       "    </tr>\n",
       "  </tbody>\n",
       "</table>\n",
       "</div>"
      ]
     },
     "execution_count": 19,
     "metadata": {},
     "output_type": "execute_result"
    }
   ],
   "execution_count": 19
  },
  {
   "metadata": {
    "ExecuteTime": {
     "end_time": "2024-09-14T17:19:52.359415Z",
     "start_time": "2024-09-14T17:19:52.351903Z"
    }
   },
   "cell_type": "code",
   "source": [
    "precip_encoded = one_hot_encoding.fit_transform(df[['PetType']])\n",
    "precip_encoded"
   ],
   "id": "a4c0ac86ee33d5e4",
   "outputs": [
    {
     "data": {
      "text/plain": [
       "array([[1., 0., 0., 0.],\n",
       "       [0., 0., 0., 1.],\n",
       "       [0., 0., 1., 0.],\n",
       "       ...,\n",
       "       [0., 0., 0., 1.],\n",
       "       [0., 0., 1., 0.],\n",
       "       [0., 0., 0., 1.]])"
      ]
     },
     "execution_count": 20,
     "metadata": {},
     "output_type": "execute_result"
    }
   ],
   "execution_count": 20
  },
  {
   "metadata": {
    "ExecuteTime": {
     "end_time": "2024-09-14T17:19:55.497195Z",
     "start_time": "2024-09-14T17:19:55.491455Z"
    }
   },
   "cell_type": "code",
   "source": "df['Breed'].head()",
   "id": "8f8784c188029584",
   "outputs": [
    {
     "data": {
      "text/plain": [
       "0            Parakeet\n",
       "1              Rabbit\n",
       "2    Golden Retriever\n",
       "3            Parakeet\n",
       "4              Rabbit\n",
       "Name: Breed, dtype: object"
      ]
     },
     "execution_count": 21,
     "metadata": {},
     "output_type": "execute_result"
    }
   ],
   "execution_count": 21
  },
  {
   "metadata": {
    "ExecuteTime": {
     "end_time": "2024-09-14T17:19:56.912049Z",
     "start_time": "2024-09-14T17:19:56.906723Z"
    }
   },
   "cell_type": "code",
   "source": "df['Breed'].unique()",
   "id": "b205f3564c990264",
   "outputs": [
    {
     "data": {
      "text/plain": [
       "array(['Parakeet', 'Rabbit', 'Golden Retriever', 'Labrador', 'Siamese',\n",
       "       'Persian', 'Poodle'], dtype=object)"
      ]
     },
     "execution_count": 22,
     "metadata": {},
     "output_type": "execute_result"
    }
   ],
   "execution_count": 22
  },
  {
   "metadata": {
    "ExecuteTime": {
     "end_time": "2024-09-14T17:19:58.056963Z",
     "start_time": "2024-09-14T17:19:58.050075Z"
    }
   },
   "cell_type": "code",
   "source": [
    "precip_encoded = one_hot_encoding.fit_transform(df[['Breed']])\n",
    "precip_encoded"
   ],
   "id": "40e20b177ec95e76",
   "outputs": [
    {
     "data": {
      "text/plain": [
       "array([[0., 0., 1., ..., 0., 0., 0.],\n",
       "       [0., 0., 0., ..., 0., 1., 0.],\n",
       "       [1., 0., 0., ..., 0., 0., 0.],\n",
       "       ...,\n",
       "       [0., 0., 0., ..., 0., 1., 0.],\n",
       "       [0., 1., 0., ..., 0., 0., 0.],\n",
       "       [0., 0., 0., ..., 0., 1., 0.]])"
      ]
     },
     "execution_count": 23,
     "metadata": {},
     "output_type": "execute_result"
    }
   ],
   "execution_count": 23
  },
  {
   "metadata": {
    "ExecuteTime": {
     "end_time": "2024-09-14T17:20:00.176864Z",
     "start_time": "2024-09-14T17:20:00.172139Z"
    }
   },
   "cell_type": "code",
   "source": [
    "new_column_names = one_hot_encoding.get_feature_names_out()\n",
    "new_column_names"
   ],
   "id": "9976eb27888b335c",
   "outputs": [
    {
     "data": {
      "text/plain": [
       "array(['Breed_Golden Retriever', 'Breed_Labrador', 'Breed_Parakeet',\n",
       "       'Breed_Persian', 'Breed_Poodle', 'Breed_Rabbit', 'Breed_Siamese'],\n",
       "      dtype=object)"
      ]
     },
     "execution_count": 24,
     "metadata": {},
     "output_type": "execute_result"
    }
   ],
   "execution_count": 24
  },
  {
   "metadata": {
    "ExecuteTime": {
     "end_time": "2024-09-14T17:20:01.316363Z",
     "start_time": "2024-09-14T17:20:01.305473Z"
    }
   },
   "cell_type": "code",
   "source": [
    "df1[new_column_names] = precip_encoded.astype(int)\n",
    "df1.head()"
   ],
   "id": "d83c6556f7ae54b4",
   "outputs": [
    {
     "data": {
      "text/plain": [
       "              Breed  AgeMonths   Color    Size   WeightKg  Vaccinated  \\\n",
       "0          Parakeet        131  Orange   Large   5.039768           1   \n",
       "1            Rabbit         73   White   Large  16.086727           0   \n",
       "2  Golden Retriever        136  Orange  Medium   2.076286           0   \n",
       "3          Parakeet         97   White   Small   3.339423           0   \n",
       "4            Rabbit        123    Gray   Large  20.498100           0   \n",
       "\n",
       "   HealthCondition  TimeInShelterDays  AdoptionFee  PreviousOwner  \\\n",
       "0                0                 27          140              0   \n",
       "1                0                  8          235              0   \n",
       "2                0                 85          385              0   \n",
       "3                0                 61          217              1   \n",
       "4                0                 28           14              1   \n",
       "\n",
       "   AdoptionLikelihood  Breed_Golden Retriever  Breed_Labrador  Breed_Parakeet  \\\n",
       "0                   0                       0               0               1   \n",
       "1                   0                       0               0               0   \n",
       "2                   0                       1               0               0   \n",
       "3                   0                       0               0               1   \n",
       "4                   0                       0               0               0   \n",
       "\n",
       "   Breed_Persian  Breed_Poodle  Breed_Rabbit  Breed_Siamese  \n",
       "0              0             0             0              0  \n",
       "1              0             0             1              0  \n",
       "2              0             0             0              0  \n",
       "3              0             0             0              0  \n",
       "4              0             0             1              0  "
      ],
      "text/html": [
       "<div>\n",
       "<style scoped>\n",
       "    .dataframe tbody tr th:only-of-type {\n",
       "        vertical-align: middle;\n",
       "    }\n",
       "\n",
       "    .dataframe tbody tr th {\n",
       "        vertical-align: top;\n",
       "    }\n",
       "\n",
       "    .dataframe thead th {\n",
       "        text-align: right;\n",
       "    }\n",
       "</style>\n",
       "<table border=\"1\" class=\"dataframe\">\n",
       "  <thead>\n",
       "    <tr style=\"text-align: right;\">\n",
       "      <th></th>\n",
       "      <th>Breed</th>\n",
       "      <th>AgeMonths</th>\n",
       "      <th>Color</th>\n",
       "      <th>Size</th>\n",
       "      <th>WeightKg</th>\n",
       "      <th>Vaccinated</th>\n",
       "      <th>HealthCondition</th>\n",
       "      <th>TimeInShelterDays</th>\n",
       "      <th>AdoptionFee</th>\n",
       "      <th>PreviousOwner</th>\n",
       "      <th>AdoptionLikelihood</th>\n",
       "      <th>Breed_Golden Retriever</th>\n",
       "      <th>Breed_Labrador</th>\n",
       "      <th>Breed_Parakeet</th>\n",
       "      <th>Breed_Persian</th>\n",
       "      <th>Breed_Poodle</th>\n",
       "      <th>Breed_Rabbit</th>\n",
       "      <th>Breed_Siamese</th>\n",
       "    </tr>\n",
       "  </thead>\n",
       "  <tbody>\n",
       "    <tr>\n",
       "      <th>0</th>\n",
       "      <td>Parakeet</td>\n",
       "      <td>131</td>\n",
       "      <td>Orange</td>\n",
       "      <td>Large</td>\n",
       "      <td>5.039768</td>\n",
       "      <td>1</td>\n",
       "      <td>0</td>\n",
       "      <td>27</td>\n",
       "      <td>140</td>\n",
       "      <td>0</td>\n",
       "      <td>0</td>\n",
       "      <td>0</td>\n",
       "      <td>0</td>\n",
       "      <td>1</td>\n",
       "      <td>0</td>\n",
       "      <td>0</td>\n",
       "      <td>0</td>\n",
       "      <td>0</td>\n",
       "    </tr>\n",
       "    <tr>\n",
       "      <th>1</th>\n",
       "      <td>Rabbit</td>\n",
       "      <td>73</td>\n",
       "      <td>White</td>\n",
       "      <td>Large</td>\n",
       "      <td>16.086727</td>\n",
       "      <td>0</td>\n",
       "      <td>0</td>\n",
       "      <td>8</td>\n",
       "      <td>235</td>\n",
       "      <td>0</td>\n",
       "      <td>0</td>\n",
       "      <td>0</td>\n",
       "      <td>0</td>\n",
       "      <td>0</td>\n",
       "      <td>0</td>\n",
       "      <td>0</td>\n",
       "      <td>1</td>\n",
       "      <td>0</td>\n",
       "    </tr>\n",
       "    <tr>\n",
       "      <th>2</th>\n",
       "      <td>Golden Retriever</td>\n",
       "      <td>136</td>\n",
       "      <td>Orange</td>\n",
       "      <td>Medium</td>\n",
       "      <td>2.076286</td>\n",
       "      <td>0</td>\n",
       "      <td>0</td>\n",
       "      <td>85</td>\n",
       "      <td>385</td>\n",
       "      <td>0</td>\n",
       "      <td>0</td>\n",
       "      <td>1</td>\n",
       "      <td>0</td>\n",
       "      <td>0</td>\n",
       "      <td>0</td>\n",
       "      <td>0</td>\n",
       "      <td>0</td>\n",
       "      <td>0</td>\n",
       "    </tr>\n",
       "    <tr>\n",
       "      <th>3</th>\n",
       "      <td>Parakeet</td>\n",
       "      <td>97</td>\n",
       "      <td>White</td>\n",
       "      <td>Small</td>\n",
       "      <td>3.339423</td>\n",
       "      <td>0</td>\n",
       "      <td>0</td>\n",
       "      <td>61</td>\n",
       "      <td>217</td>\n",
       "      <td>1</td>\n",
       "      <td>0</td>\n",
       "      <td>0</td>\n",
       "      <td>0</td>\n",
       "      <td>1</td>\n",
       "      <td>0</td>\n",
       "      <td>0</td>\n",
       "      <td>0</td>\n",
       "      <td>0</td>\n",
       "    </tr>\n",
       "    <tr>\n",
       "      <th>4</th>\n",
       "      <td>Rabbit</td>\n",
       "      <td>123</td>\n",
       "      <td>Gray</td>\n",
       "      <td>Large</td>\n",
       "      <td>20.498100</td>\n",
       "      <td>0</td>\n",
       "      <td>0</td>\n",
       "      <td>28</td>\n",
       "      <td>14</td>\n",
       "      <td>1</td>\n",
       "      <td>0</td>\n",
       "      <td>0</td>\n",
       "      <td>0</td>\n",
       "      <td>0</td>\n",
       "      <td>0</td>\n",
       "      <td>0</td>\n",
       "      <td>1</td>\n",
       "      <td>0</td>\n",
       "    </tr>\n",
       "  </tbody>\n",
       "</table>\n",
       "</div>"
      ]
     },
     "execution_count": 25,
     "metadata": {},
     "output_type": "execute_result"
    }
   ],
   "execution_count": 25
  },
  {
   "metadata": {
    "ExecuteTime": {
     "end_time": "2024-09-14T17:20:02.937973Z",
     "start_time": "2024-09-14T17:20:02.932972Z"
    }
   },
   "cell_type": "code",
   "source": "df1.drop('Breed', axis=1, inplace=True)",
   "id": "c0d544c40489f5b8",
   "outputs": [],
   "execution_count": 26
  },
  {
   "metadata": {
    "ExecuteTime": {
     "end_time": "2024-09-14T17:20:05.278021Z",
     "start_time": "2024-09-14T17:20:05.270014Z"
    }
   },
   "cell_type": "code",
   "source": "df1.head()",
   "id": "61be1b6df8fb1d58",
   "outputs": [
    {
     "data": {
      "text/plain": [
       "   AgeMonths   Color    Size   WeightKg  Vaccinated  HealthCondition  \\\n",
       "0        131  Orange   Large   5.039768           1                0   \n",
       "1         73   White   Large  16.086727           0                0   \n",
       "2        136  Orange  Medium   2.076286           0                0   \n",
       "3         97   White   Small   3.339423           0                0   \n",
       "4        123    Gray   Large  20.498100           0                0   \n",
       "\n",
       "   TimeInShelterDays  AdoptionFee  PreviousOwner  AdoptionLikelihood  \\\n",
       "0                 27          140              0                   0   \n",
       "1                  8          235              0                   0   \n",
       "2                 85          385              0                   0   \n",
       "3                 61          217              1                   0   \n",
       "4                 28           14              1                   0   \n",
       "\n",
       "   Breed_Golden Retriever  Breed_Labrador  Breed_Parakeet  Breed_Persian  \\\n",
       "0                       0               0               1              0   \n",
       "1                       0               0               0              0   \n",
       "2                       1               0               0              0   \n",
       "3                       0               0               1              0   \n",
       "4                       0               0               0              0   \n",
       "\n",
       "   Breed_Poodle  Breed_Rabbit  Breed_Siamese  \n",
       "0             0             0              0  \n",
       "1             0             1              0  \n",
       "2             0             0              0  \n",
       "3             0             0              0  \n",
       "4             0             1              0  "
      ],
      "text/html": [
       "<div>\n",
       "<style scoped>\n",
       "    .dataframe tbody tr th:only-of-type {\n",
       "        vertical-align: middle;\n",
       "    }\n",
       "\n",
       "    .dataframe tbody tr th {\n",
       "        vertical-align: top;\n",
       "    }\n",
       "\n",
       "    .dataframe thead th {\n",
       "        text-align: right;\n",
       "    }\n",
       "</style>\n",
       "<table border=\"1\" class=\"dataframe\">\n",
       "  <thead>\n",
       "    <tr style=\"text-align: right;\">\n",
       "      <th></th>\n",
       "      <th>AgeMonths</th>\n",
       "      <th>Color</th>\n",
       "      <th>Size</th>\n",
       "      <th>WeightKg</th>\n",
       "      <th>Vaccinated</th>\n",
       "      <th>HealthCondition</th>\n",
       "      <th>TimeInShelterDays</th>\n",
       "      <th>AdoptionFee</th>\n",
       "      <th>PreviousOwner</th>\n",
       "      <th>AdoptionLikelihood</th>\n",
       "      <th>Breed_Golden Retriever</th>\n",
       "      <th>Breed_Labrador</th>\n",
       "      <th>Breed_Parakeet</th>\n",
       "      <th>Breed_Persian</th>\n",
       "      <th>Breed_Poodle</th>\n",
       "      <th>Breed_Rabbit</th>\n",
       "      <th>Breed_Siamese</th>\n",
       "    </tr>\n",
       "  </thead>\n",
       "  <tbody>\n",
       "    <tr>\n",
       "      <th>0</th>\n",
       "      <td>131</td>\n",
       "      <td>Orange</td>\n",
       "      <td>Large</td>\n",
       "      <td>5.039768</td>\n",
       "      <td>1</td>\n",
       "      <td>0</td>\n",
       "      <td>27</td>\n",
       "      <td>140</td>\n",
       "      <td>0</td>\n",
       "      <td>0</td>\n",
       "      <td>0</td>\n",
       "      <td>0</td>\n",
       "      <td>1</td>\n",
       "      <td>0</td>\n",
       "      <td>0</td>\n",
       "      <td>0</td>\n",
       "      <td>0</td>\n",
       "    </tr>\n",
       "    <tr>\n",
       "      <th>1</th>\n",
       "      <td>73</td>\n",
       "      <td>White</td>\n",
       "      <td>Large</td>\n",
       "      <td>16.086727</td>\n",
       "      <td>0</td>\n",
       "      <td>0</td>\n",
       "      <td>8</td>\n",
       "      <td>235</td>\n",
       "      <td>0</td>\n",
       "      <td>0</td>\n",
       "      <td>0</td>\n",
       "      <td>0</td>\n",
       "      <td>0</td>\n",
       "      <td>0</td>\n",
       "      <td>0</td>\n",
       "      <td>1</td>\n",
       "      <td>0</td>\n",
       "    </tr>\n",
       "    <tr>\n",
       "      <th>2</th>\n",
       "      <td>136</td>\n",
       "      <td>Orange</td>\n",
       "      <td>Medium</td>\n",
       "      <td>2.076286</td>\n",
       "      <td>0</td>\n",
       "      <td>0</td>\n",
       "      <td>85</td>\n",
       "      <td>385</td>\n",
       "      <td>0</td>\n",
       "      <td>0</td>\n",
       "      <td>1</td>\n",
       "      <td>0</td>\n",
       "      <td>0</td>\n",
       "      <td>0</td>\n",
       "      <td>0</td>\n",
       "      <td>0</td>\n",
       "      <td>0</td>\n",
       "    </tr>\n",
       "    <tr>\n",
       "      <th>3</th>\n",
       "      <td>97</td>\n",
       "      <td>White</td>\n",
       "      <td>Small</td>\n",
       "      <td>3.339423</td>\n",
       "      <td>0</td>\n",
       "      <td>0</td>\n",
       "      <td>61</td>\n",
       "      <td>217</td>\n",
       "      <td>1</td>\n",
       "      <td>0</td>\n",
       "      <td>0</td>\n",
       "      <td>0</td>\n",
       "      <td>1</td>\n",
       "      <td>0</td>\n",
       "      <td>0</td>\n",
       "      <td>0</td>\n",
       "      <td>0</td>\n",
       "    </tr>\n",
       "    <tr>\n",
       "      <th>4</th>\n",
       "      <td>123</td>\n",
       "      <td>Gray</td>\n",
       "      <td>Large</td>\n",
       "      <td>20.498100</td>\n",
       "      <td>0</td>\n",
       "      <td>0</td>\n",
       "      <td>28</td>\n",
       "      <td>14</td>\n",
       "      <td>1</td>\n",
       "      <td>0</td>\n",
       "      <td>0</td>\n",
       "      <td>0</td>\n",
       "      <td>0</td>\n",
       "      <td>0</td>\n",
       "      <td>0</td>\n",
       "      <td>1</td>\n",
       "      <td>0</td>\n",
       "    </tr>\n",
       "  </tbody>\n",
       "</table>\n",
       "</div>"
      ]
     },
     "execution_count": 27,
     "metadata": {},
     "output_type": "execute_result"
    }
   ],
   "execution_count": 27
  },
  {
   "metadata": {
    "ExecuteTime": {
     "end_time": "2024-09-14T17:20:07.197698Z",
     "start_time": "2024-09-14T17:20:07.191697Z"
    }
   },
   "cell_type": "code",
   "source": [
    "precip_encoded = one_hot_encoding.fit_transform(df[['Breed']])\n",
    "precip_encoded"
   ],
   "id": "18e5d5e553b602b6",
   "outputs": [
    {
     "data": {
      "text/plain": [
       "array([[0., 0., 1., ..., 0., 0., 0.],\n",
       "       [0., 0., 0., ..., 0., 1., 0.],\n",
       "       [1., 0., 0., ..., 0., 0., 0.],\n",
       "       ...,\n",
       "       [0., 0., 0., ..., 0., 1., 0.],\n",
       "       [0., 1., 0., ..., 0., 0., 0.],\n",
       "       [0., 0., 0., ..., 0., 1., 0.]])"
      ]
     },
     "execution_count": 28,
     "metadata": {},
     "output_type": "execute_result"
    }
   ],
   "execution_count": 28
  },
  {
   "metadata": {
    "ExecuteTime": {
     "end_time": "2024-09-14T17:20:09.753628Z",
     "start_time": "2024-09-14T17:20:09.747846Z"
    }
   },
   "cell_type": "code",
   "source": "df['Color'].head()",
   "id": "102f166f10daeff6",
   "outputs": [
    {
     "data": {
      "text/plain": [
       "0    Orange\n",
       "1     White\n",
       "2    Orange\n",
       "3     White\n",
       "4      Gray\n",
       "Name: Color, dtype: object"
      ]
     },
     "execution_count": 29,
     "metadata": {},
     "output_type": "execute_result"
    }
   ],
   "execution_count": 29
  },
  {
   "metadata": {
    "ExecuteTime": {
     "end_time": "2024-09-14T17:20:11.300398Z",
     "start_time": "2024-09-14T17:20:11.295762Z"
    }
   },
   "cell_type": "code",
   "source": "df['Color'].unique()",
   "id": "c17f03ad0d16d5dc",
   "outputs": [
    {
     "data": {
      "text/plain": [
       "array(['Orange', 'White', 'Gray', 'Brown', 'Black'], dtype=object)"
      ]
     },
     "execution_count": 30,
     "metadata": {},
     "output_type": "execute_result"
    }
   ],
   "execution_count": 30
  },
  {
   "metadata": {
    "ExecuteTime": {
     "end_time": "2024-09-14T17:20:13.733141Z",
     "start_time": "2024-09-14T17:20:13.726802Z"
    }
   },
   "cell_type": "code",
   "source": [
    "precip_encoded = one_hot_encoding.fit_transform(df[['Color']])\n",
    "precip_encoded"
   ],
   "id": "1e6850bf3ef927a0",
   "outputs": [
    {
     "data": {
      "text/plain": [
       "array([[0., 0., 0., 1., 0.],\n",
       "       [0., 0., 0., 0., 1.],\n",
       "       [0., 0., 0., 1., 0.],\n",
       "       ...,\n",
       "       [0., 0., 0., 1., 0.],\n",
       "       [0., 0., 1., 0., 0.],\n",
       "       [0., 0., 0., 0., 1.]])"
      ]
     },
     "execution_count": 31,
     "metadata": {},
     "output_type": "execute_result"
    }
   ],
   "execution_count": 31
  },
  {
   "metadata": {
    "ExecuteTime": {
     "end_time": "2024-09-14T17:20:15.263471Z",
     "start_time": "2024-09-14T17:20:15.258563Z"
    }
   },
   "cell_type": "code",
   "source": [
    "new_column_names = one_hot_encoding.get_feature_names_out()\n",
    "new_column_names"
   ],
   "id": "52c54d8c0abf04b9",
   "outputs": [
    {
     "data": {
      "text/plain": [
       "array(['Color_Black', 'Color_Brown', 'Color_Gray', 'Color_Orange',\n",
       "       'Color_White'], dtype=object)"
      ]
     },
     "execution_count": 32,
     "metadata": {},
     "output_type": "execute_result"
    }
   ],
   "execution_count": 32
  },
  {
   "metadata": {
    "ExecuteTime": {
     "end_time": "2024-09-14T17:20:17.002092Z",
     "start_time": "2024-09-14T17:20:16.990893Z"
    }
   },
   "cell_type": "code",
   "source": [
    "df1[new_column_names] = precip_encoded.astype(int)\n",
    "df1.head()"
   ],
   "id": "ddcbf44634ddb76e",
   "outputs": [
    {
     "data": {
      "text/plain": [
       "   AgeMonths   Color    Size   WeightKg  Vaccinated  HealthCondition  \\\n",
       "0        131  Orange   Large   5.039768           1                0   \n",
       "1         73   White   Large  16.086727           0                0   \n",
       "2        136  Orange  Medium   2.076286           0                0   \n",
       "3         97   White   Small   3.339423           0                0   \n",
       "4        123    Gray   Large  20.498100           0                0   \n",
       "\n",
       "   TimeInShelterDays  AdoptionFee  PreviousOwner  AdoptionLikelihood  ...  \\\n",
       "0                 27          140              0                   0  ...   \n",
       "1                  8          235              0                   0  ...   \n",
       "2                 85          385              0                   0  ...   \n",
       "3                 61          217              1                   0  ...   \n",
       "4                 28           14              1                   0  ...   \n",
       "\n",
       "   Breed_Parakeet  Breed_Persian  Breed_Poodle  Breed_Rabbit  Breed_Siamese  \\\n",
       "0               1              0             0             0              0   \n",
       "1               0              0             0             1              0   \n",
       "2               0              0             0             0              0   \n",
       "3               1              0             0             0              0   \n",
       "4               0              0             0             1              0   \n",
       "\n",
       "   Color_Black  Color_Brown  Color_Gray  Color_Orange  Color_White  \n",
       "0            0            0           0             1            0  \n",
       "1            0            0           0             0            1  \n",
       "2            0            0           0             1            0  \n",
       "3            0            0           0             0            1  \n",
       "4            0            0           1             0            0  \n",
       "\n",
       "[5 rows x 22 columns]"
      ],
      "text/html": [
       "<div>\n",
       "<style scoped>\n",
       "    .dataframe tbody tr th:only-of-type {\n",
       "        vertical-align: middle;\n",
       "    }\n",
       "\n",
       "    .dataframe tbody tr th {\n",
       "        vertical-align: top;\n",
       "    }\n",
       "\n",
       "    .dataframe thead th {\n",
       "        text-align: right;\n",
       "    }\n",
       "</style>\n",
       "<table border=\"1\" class=\"dataframe\">\n",
       "  <thead>\n",
       "    <tr style=\"text-align: right;\">\n",
       "      <th></th>\n",
       "      <th>AgeMonths</th>\n",
       "      <th>Color</th>\n",
       "      <th>Size</th>\n",
       "      <th>WeightKg</th>\n",
       "      <th>Vaccinated</th>\n",
       "      <th>HealthCondition</th>\n",
       "      <th>TimeInShelterDays</th>\n",
       "      <th>AdoptionFee</th>\n",
       "      <th>PreviousOwner</th>\n",
       "      <th>AdoptionLikelihood</th>\n",
       "      <th>...</th>\n",
       "      <th>Breed_Parakeet</th>\n",
       "      <th>Breed_Persian</th>\n",
       "      <th>Breed_Poodle</th>\n",
       "      <th>Breed_Rabbit</th>\n",
       "      <th>Breed_Siamese</th>\n",
       "      <th>Color_Black</th>\n",
       "      <th>Color_Brown</th>\n",
       "      <th>Color_Gray</th>\n",
       "      <th>Color_Orange</th>\n",
       "      <th>Color_White</th>\n",
       "    </tr>\n",
       "  </thead>\n",
       "  <tbody>\n",
       "    <tr>\n",
       "      <th>0</th>\n",
       "      <td>131</td>\n",
       "      <td>Orange</td>\n",
       "      <td>Large</td>\n",
       "      <td>5.039768</td>\n",
       "      <td>1</td>\n",
       "      <td>0</td>\n",
       "      <td>27</td>\n",
       "      <td>140</td>\n",
       "      <td>0</td>\n",
       "      <td>0</td>\n",
       "      <td>...</td>\n",
       "      <td>1</td>\n",
       "      <td>0</td>\n",
       "      <td>0</td>\n",
       "      <td>0</td>\n",
       "      <td>0</td>\n",
       "      <td>0</td>\n",
       "      <td>0</td>\n",
       "      <td>0</td>\n",
       "      <td>1</td>\n",
       "      <td>0</td>\n",
       "    </tr>\n",
       "    <tr>\n",
       "      <th>1</th>\n",
       "      <td>73</td>\n",
       "      <td>White</td>\n",
       "      <td>Large</td>\n",
       "      <td>16.086727</td>\n",
       "      <td>0</td>\n",
       "      <td>0</td>\n",
       "      <td>8</td>\n",
       "      <td>235</td>\n",
       "      <td>0</td>\n",
       "      <td>0</td>\n",
       "      <td>...</td>\n",
       "      <td>0</td>\n",
       "      <td>0</td>\n",
       "      <td>0</td>\n",
       "      <td>1</td>\n",
       "      <td>0</td>\n",
       "      <td>0</td>\n",
       "      <td>0</td>\n",
       "      <td>0</td>\n",
       "      <td>0</td>\n",
       "      <td>1</td>\n",
       "    </tr>\n",
       "    <tr>\n",
       "      <th>2</th>\n",
       "      <td>136</td>\n",
       "      <td>Orange</td>\n",
       "      <td>Medium</td>\n",
       "      <td>2.076286</td>\n",
       "      <td>0</td>\n",
       "      <td>0</td>\n",
       "      <td>85</td>\n",
       "      <td>385</td>\n",
       "      <td>0</td>\n",
       "      <td>0</td>\n",
       "      <td>...</td>\n",
       "      <td>0</td>\n",
       "      <td>0</td>\n",
       "      <td>0</td>\n",
       "      <td>0</td>\n",
       "      <td>0</td>\n",
       "      <td>0</td>\n",
       "      <td>0</td>\n",
       "      <td>0</td>\n",
       "      <td>1</td>\n",
       "      <td>0</td>\n",
       "    </tr>\n",
       "    <tr>\n",
       "      <th>3</th>\n",
       "      <td>97</td>\n",
       "      <td>White</td>\n",
       "      <td>Small</td>\n",
       "      <td>3.339423</td>\n",
       "      <td>0</td>\n",
       "      <td>0</td>\n",
       "      <td>61</td>\n",
       "      <td>217</td>\n",
       "      <td>1</td>\n",
       "      <td>0</td>\n",
       "      <td>...</td>\n",
       "      <td>1</td>\n",
       "      <td>0</td>\n",
       "      <td>0</td>\n",
       "      <td>0</td>\n",
       "      <td>0</td>\n",
       "      <td>0</td>\n",
       "      <td>0</td>\n",
       "      <td>0</td>\n",
       "      <td>0</td>\n",
       "      <td>1</td>\n",
       "    </tr>\n",
       "    <tr>\n",
       "      <th>4</th>\n",
       "      <td>123</td>\n",
       "      <td>Gray</td>\n",
       "      <td>Large</td>\n",
       "      <td>20.498100</td>\n",
       "      <td>0</td>\n",
       "      <td>0</td>\n",
       "      <td>28</td>\n",
       "      <td>14</td>\n",
       "      <td>1</td>\n",
       "      <td>0</td>\n",
       "      <td>...</td>\n",
       "      <td>0</td>\n",
       "      <td>0</td>\n",
       "      <td>0</td>\n",
       "      <td>1</td>\n",
       "      <td>0</td>\n",
       "      <td>0</td>\n",
       "      <td>0</td>\n",
       "      <td>1</td>\n",
       "      <td>0</td>\n",
       "      <td>0</td>\n",
       "    </tr>\n",
       "  </tbody>\n",
       "</table>\n",
       "<p>5 rows × 22 columns</p>\n",
       "</div>"
      ]
     },
     "execution_count": 33,
     "metadata": {},
     "output_type": "execute_result"
    }
   ],
   "execution_count": 33
  },
  {
   "metadata": {
    "ExecuteTime": {
     "end_time": "2024-09-14T17:20:18.352752Z",
     "start_time": "2024-09-14T17:20:18.348591Z"
    }
   },
   "cell_type": "code",
   "source": "df1.drop('Color', axis=1, inplace=True)",
   "id": "37795bc7aa1203bd",
   "outputs": [],
   "execution_count": 34
  },
  {
   "metadata": {
    "ExecuteTime": {
     "end_time": "2024-09-14T17:20:19.431378Z",
     "start_time": "2024-09-14T17:20:19.425306Z"
    }
   },
   "cell_type": "code",
   "source": [
    "precip_encoded = one_hot_encoding.fit_transform(df[['Color']])\n",
    "precip_encoded"
   ],
   "id": "ac3f7c0ad1f85d4d",
   "outputs": [
    {
     "data": {
      "text/plain": [
       "array([[0., 0., 0., 1., 0.],\n",
       "       [0., 0., 0., 0., 1.],\n",
       "       [0., 0., 0., 1., 0.],\n",
       "       ...,\n",
       "       [0., 0., 0., 1., 0.],\n",
       "       [0., 0., 1., 0., 0.],\n",
       "       [0., 0., 0., 0., 1.]])"
      ]
     },
     "execution_count": 35,
     "metadata": {},
     "output_type": "execute_result"
    }
   ],
   "execution_count": 35
  },
  {
   "metadata": {
    "ExecuteTime": {
     "end_time": "2024-09-14T17:20:21.376157Z",
     "start_time": "2024-09-14T17:20:21.370296Z"
    }
   },
   "cell_type": "code",
   "source": [
    "label_encoder = LabelEncoder()\n",
    "label_encoder"
   ],
   "id": "bd63de18db52665a",
   "outputs": [
    {
     "data": {
      "text/plain": [
       "LabelEncoder()"
      ],
      "text/html": [
       "<style>#sk-container-id-2 {\n",
       "  /* Definition of color scheme common for light and dark mode */\n",
       "  --sklearn-color-text: black;\n",
       "  --sklearn-color-line: gray;\n",
       "  /* Definition of color scheme for unfitted estimators */\n",
       "  --sklearn-color-unfitted-level-0: #fff5e6;\n",
       "  --sklearn-color-unfitted-level-1: #f6e4d2;\n",
       "  --sklearn-color-unfitted-level-2: #ffe0b3;\n",
       "  --sklearn-color-unfitted-level-3: chocolate;\n",
       "  /* Definition of color scheme for fitted estimators */\n",
       "  --sklearn-color-fitted-level-0: #f0f8ff;\n",
       "  --sklearn-color-fitted-level-1: #d4ebff;\n",
       "  --sklearn-color-fitted-level-2: #b3dbfd;\n",
       "  --sklearn-color-fitted-level-3: cornflowerblue;\n",
       "\n",
       "  /* Specific color for light theme */\n",
       "  --sklearn-color-text-on-default-background: var(--sg-text-color, var(--theme-code-foreground, var(--jp-content-font-color1, black)));\n",
       "  --sklearn-color-background: var(--sg-background-color, var(--theme-background, var(--jp-layout-color0, white)));\n",
       "  --sklearn-color-border-box: var(--sg-text-color, var(--theme-code-foreground, var(--jp-content-font-color1, black)));\n",
       "  --sklearn-color-icon: #696969;\n",
       "\n",
       "  @media (prefers-color-scheme: dark) {\n",
       "    /* Redefinition of color scheme for dark theme */\n",
       "    --sklearn-color-text-on-default-background: var(--sg-text-color, var(--theme-code-foreground, var(--jp-content-font-color1, white)));\n",
       "    --sklearn-color-background: var(--sg-background-color, var(--theme-background, var(--jp-layout-color0, #111)));\n",
       "    --sklearn-color-border-box: var(--sg-text-color, var(--theme-code-foreground, var(--jp-content-font-color1, white)));\n",
       "    --sklearn-color-icon: #878787;\n",
       "  }\n",
       "}\n",
       "\n",
       "#sk-container-id-2 {\n",
       "  color: var(--sklearn-color-text);\n",
       "}\n",
       "\n",
       "#sk-container-id-2 pre {\n",
       "  padding: 0;\n",
       "}\n",
       "\n",
       "#sk-container-id-2 input.sk-hidden--visually {\n",
       "  border: 0;\n",
       "  clip: rect(1px 1px 1px 1px);\n",
       "  clip: rect(1px, 1px, 1px, 1px);\n",
       "  height: 1px;\n",
       "  margin: -1px;\n",
       "  overflow: hidden;\n",
       "  padding: 0;\n",
       "  position: absolute;\n",
       "  width: 1px;\n",
       "}\n",
       "\n",
       "#sk-container-id-2 div.sk-dashed-wrapped {\n",
       "  border: 1px dashed var(--sklearn-color-line);\n",
       "  margin: 0 0.4em 0.5em 0.4em;\n",
       "  box-sizing: border-box;\n",
       "  padding-bottom: 0.4em;\n",
       "  background-color: var(--sklearn-color-background);\n",
       "}\n",
       "\n",
       "#sk-container-id-2 div.sk-container {\n",
       "  /* jupyter's `normalize.less` sets `[hidden] { display: none; }`\n",
       "     but bootstrap.min.css set `[hidden] { display: none !important; }`\n",
       "     so we also need the `!important` here to be able to override the\n",
       "     default hidden behavior on the sphinx rendered scikit-learn.org.\n",
       "     See: https://github.com/scikit-learn/scikit-learn/issues/21755 */\n",
       "  display: inline-block !important;\n",
       "  position: relative;\n",
       "}\n",
       "\n",
       "#sk-container-id-2 div.sk-text-repr-fallback {\n",
       "  display: none;\n",
       "}\n",
       "\n",
       "div.sk-parallel-item,\n",
       "div.sk-serial,\n",
       "div.sk-item {\n",
       "  /* draw centered vertical line to link estimators */\n",
       "  background-image: linear-gradient(var(--sklearn-color-text-on-default-background), var(--sklearn-color-text-on-default-background));\n",
       "  background-size: 2px 100%;\n",
       "  background-repeat: no-repeat;\n",
       "  background-position: center center;\n",
       "}\n",
       "\n",
       "/* Parallel-specific style estimator block */\n",
       "\n",
       "#sk-container-id-2 div.sk-parallel-item::after {\n",
       "  content: \"\";\n",
       "  width: 100%;\n",
       "  border-bottom: 2px solid var(--sklearn-color-text-on-default-background);\n",
       "  flex-grow: 1;\n",
       "}\n",
       "\n",
       "#sk-container-id-2 div.sk-parallel {\n",
       "  display: flex;\n",
       "  align-items: stretch;\n",
       "  justify-content: center;\n",
       "  background-color: var(--sklearn-color-background);\n",
       "  position: relative;\n",
       "}\n",
       "\n",
       "#sk-container-id-2 div.sk-parallel-item {\n",
       "  display: flex;\n",
       "  flex-direction: column;\n",
       "}\n",
       "\n",
       "#sk-container-id-2 div.sk-parallel-item:first-child::after {\n",
       "  align-self: flex-end;\n",
       "  width: 50%;\n",
       "}\n",
       "\n",
       "#sk-container-id-2 div.sk-parallel-item:last-child::after {\n",
       "  align-self: flex-start;\n",
       "  width: 50%;\n",
       "}\n",
       "\n",
       "#sk-container-id-2 div.sk-parallel-item:only-child::after {\n",
       "  width: 0;\n",
       "}\n",
       "\n",
       "/* Serial-specific style estimator block */\n",
       "\n",
       "#sk-container-id-2 div.sk-serial {\n",
       "  display: flex;\n",
       "  flex-direction: column;\n",
       "  align-items: center;\n",
       "  background-color: var(--sklearn-color-background);\n",
       "  padding-right: 1em;\n",
       "  padding-left: 1em;\n",
       "}\n",
       "\n",
       "\n",
       "/* Toggleable style: style used for estimator/Pipeline/ColumnTransformer box that is\n",
       "clickable and can be expanded/collapsed.\n",
       "- Pipeline and ColumnTransformer use this feature and define the default style\n",
       "- Estimators will overwrite some part of the style using the `sk-estimator` class\n",
       "*/\n",
       "\n",
       "/* Pipeline and ColumnTransformer style (default) */\n",
       "\n",
       "#sk-container-id-2 div.sk-toggleable {\n",
       "  /* Default theme specific background. It is overwritten whether we have a\n",
       "  specific estimator or a Pipeline/ColumnTransformer */\n",
       "  background-color: var(--sklearn-color-background);\n",
       "}\n",
       "\n",
       "/* Toggleable label */\n",
       "#sk-container-id-2 label.sk-toggleable__label {\n",
       "  cursor: pointer;\n",
       "  display: block;\n",
       "  width: 100%;\n",
       "  margin-bottom: 0;\n",
       "  padding: 0.5em;\n",
       "  box-sizing: border-box;\n",
       "  text-align: center;\n",
       "}\n",
       "\n",
       "#sk-container-id-2 label.sk-toggleable__label-arrow:before {\n",
       "  /* Arrow on the left of the label */\n",
       "  content: \"▸\";\n",
       "  float: left;\n",
       "  margin-right: 0.25em;\n",
       "  color: var(--sklearn-color-icon);\n",
       "}\n",
       "\n",
       "#sk-container-id-2 label.sk-toggleable__label-arrow:hover:before {\n",
       "  color: var(--sklearn-color-text);\n",
       "}\n",
       "\n",
       "/* Toggleable content - dropdown */\n",
       "\n",
       "#sk-container-id-2 div.sk-toggleable__content {\n",
       "  max-height: 0;\n",
       "  max-width: 0;\n",
       "  overflow: hidden;\n",
       "  text-align: left;\n",
       "  /* unfitted */\n",
       "  background-color: var(--sklearn-color-unfitted-level-0);\n",
       "}\n",
       "\n",
       "#sk-container-id-2 div.sk-toggleable__content.fitted {\n",
       "  /* fitted */\n",
       "  background-color: var(--sklearn-color-fitted-level-0);\n",
       "}\n",
       "\n",
       "#sk-container-id-2 div.sk-toggleable__content pre {\n",
       "  margin: 0.2em;\n",
       "  border-radius: 0.25em;\n",
       "  color: var(--sklearn-color-text);\n",
       "  /* unfitted */\n",
       "  background-color: var(--sklearn-color-unfitted-level-0);\n",
       "}\n",
       "\n",
       "#sk-container-id-2 div.sk-toggleable__content.fitted pre {\n",
       "  /* unfitted */\n",
       "  background-color: var(--sklearn-color-fitted-level-0);\n",
       "}\n",
       "\n",
       "#sk-container-id-2 input.sk-toggleable__control:checked~div.sk-toggleable__content {\n",
       "  /* Expand drop-down */\n",
       "  max-height: 200px;\n",
       "  max-width: 100%;\n",
       "  overflow: auto;\n",
       "}\n",
       "\n",
       "#sk-container-id-2 input.sk-toggleable__control:checked~label.sk-toggleable__label-arrow:before {\n",
       "  content: \"▾\";\n",
       "}\n",
       "\n",
       "/* Pipeline/ColumnTransformer-specific style */\n",
       "\n",
       "#sk-container-id-2 div.sk-label input.sk-toggleable__control:checked~label.sk-toggleable__label {\n",
       "  color: var(--sklearn-color-text);\n",
       "  background-color: var(--sklearn-color-unfitted-level-2);\n",
       "}\n",
       "\n",
       "#sk-container-id-2 div.sk-label.fitted input.sk-toggleable__control:checked~label.sk-toggleable__label {\n",
       "  background-color: var(--sklearn-color-fitted-level-2);\n",
       "}\n",
       "\n",
       "/* Estimator-specific style */\n",
       "\n",
       "/* Colorize estimator box */\n",
       "#sk-container-id-2 div.sk-estimator input.sk-toggleable__control:checked~label.sk-toggleable__label {\n",
       "  /* unfitted */\n",
       "  background-color: var(--sklearn-color-unfitted-level-2);\n",
       "}\n",
       "\n",
       "#sk-container-id-2 div.sk-estimator.fitted input.sk-toggleable__control:checked~label.sk-toggleable__label {\n",
       "  /* fitted */\n",
       "  background-color: var(--sklearn-color-fitted-level-2);\n",
       "}\n",
       "\n",
       "#sk-container-id-2 div.sk-label label.sk-toggleable__label,\n",
       "#sk-container-id-2 div.sk-label label {\n",
       "  /* The background is the default theme color */\n",
       "  color: var(--sklearn-color-text-on-default-background);\n",
       "}\n",
       "\n",
       "/* On hover, darken the color of the background */\n",
       "#sk-container-id-2 div.sk-label:hover label.sk-toggleable__label {\n",
       "  color: var(--sklearn-color-text);\n",
       "  background-color: var(--sklearn-color-unfitted-level-2);\n",
       "}\n",
       "\n",
       "/* Label box, darken color on hover, fitted */\n",
       "#sk-container-id-2 div.sk-label.fitted:hover label.sk-toggleable__label.fitted {\n",
       "  color: var(--sklearn-color-text);\n",
       "  background-color: var(--sklearn-color-fitted-level-2);\n",
       "}\n",
       "\n",
       "/* Estimator label */\n",
       "\n",
       "#sk-container-id-2 div.sk-label label {\n",
       "  font-family: monospace;\n",
       "  font-weight: bold;\n",
       "  display: inline-block;\n",
       "  line-height: 1.2em;\n",
       "}\n",
       "\n",
       "#sk-container-id-2 div.sk-label-container {\n",
       "  text-align: center;\n",
       "}\n",
       "\n",
       "/* Estimator-specific */\n",
       "#sk-container-id-2 div.sk-estimator {\n",
       "  font-family: monospace;\n",
       "  border: 1px dotted var(--sklearn-color-border-box);\n",
       "  border-radius: 0.25em;\n",
       "  box-sizing: border-box;\n",
       "  margin-bottom: 0.5em;\n",
       "  /* unfitted */\n",
       "  background-color: var(--sklearn-color-unfitted-level-0);\n",
       "}\n",
       "\n",
       "#sk-container-id-2 div.sk-estimator.fitted {\n",
       "  /* fitted */\n",
       "  background-color: var(--sklearn-color-fitted-level-0);\n",
       "}\n",
       "\n",
       "/* on hover */\n",
       "#sk-container-id-2 div.sk-estimator:hover {\n",
       "  /* unfitted */\n",
       "  background-color: var(--sklearn-color-unfitted-level-2);\n",
       "}\n",
       "\n",
       "#sk-container-id-2 div.sk-estimator.fitted:hover {\n",
       "  /* fitted */\n",
       "  background-color: var(--sklearn-color-fitted-level-2);\n",
       "}\n",
       "\n",
       "/* Specification for estimator info (e.g. \"i\" and \"?\") */\n",
       "\n",
       "/* Common style for \"i\" and \"?\" */\n",
       "\n",
       ".sk-estimator-doc-link,\n",
       "a:link.sk-estimator-doc-link,\n",
       "a:visited.sk-estimator-doc-link {\n",
       "  float: right;\n",
       "  font-size: smaller;\n",
       "  line-height: 1em;\n",
       "  font-family: monospace;\n",
       "  background-color: var(--sklearn-color-background);\n",
       "  border-radius: 1em;\n",
       "  height: 1em;\n",
       "  width: 1em;\n",
       "  text-decoration: none !important;\n",
       "  margin-left: 1ex;\n",
       "  /* unfitted */\n",
       "  border: var(--sklearn-color-unfitted-level-1) 1pt solid;\n",
       "  color: var(--sklearn-color-unfitted-level-1);\n",
       "}\n",
       "\n",
       ".sk-estimator-doc-link.fitted,\n",
       "a:link.sk-estimator-doc-link.fitted,\n",
       "a:visited.sk-estimator-doc-link.fitted {\n",
       "  /* fitted */\n",
       "  border: var(--sklearn-color-fitted-level-1) 1pt solid;\n",
       "  color: var(--sklearn-color-fitted-level-1);\n",
       "}\n",
       "\n",
       "/* On hover */\n",
       "div.sk-estimator:hover .sk-estimator-doc-link:hover,\n",
       ".sk-estimator-doc-link:hover,\n",
       "div.sk-label-container:hover .sk-estimator-doc-link:hover,\n",
       ".sk-estimator-doc-link:hover {\n",
       "  /* unfitted */\n",
       "  background-color: var(--sklearn-color-unfitted-level-3);\n",
       "  color: var(--sklearn-color-background);\n",
       "  text-decoration: none;\n",
       "}\n",
       "\n",
       "div.sk-estimator.fitted:hover .sk-estimator-doc-link.fitted:hover,\n",
       ".sk-estimator-doc-link.fitted:hover,\n",
       "div.sk-label-container:hover .sk-estimator-doc-link.fitted:hover,\n",
       ".sk-estimator-doc-link.fitted:hover {\n",
       "  /* fitted */\n",
       "  background-color: var(--sklearn-color-fitted-level-3);\n",
       "  color: var(--sklearn-color-background);\n",
       "  text-decoration: none;\n",
       "}\n",
       "\n",
       "/* Span, style for the box shown on hovering the info icon */\n",
       ".sk-estimator-doc-link span {\n",
       "  display: none;\n",
       "  z-index: 9999;\n",
       "  position: relative;\n",
       "  font-weight: normal;\n",
       "  right: .2ex;\n",
       "  padding: .5ex;\n",
       "  margin: .5ex;\n",
       "  width: min-content;\n",
       "  min-width: 20ex;\n",
       "  max-width: 50ex;\n",
       "  color: var(--sklearn-color-text);\n",
       "  box-shadow: 2pt 2pt 4pt #999;\n",
       "  /* unfitted */\n",
       "  background: var(--sklearn-color-unfitted-level-0);\n",
       "  border: .5pt solid var(--sklearn-color-unfitted-level-3);\n",
       "}\n",
       "\n",
       ".sk-estimator-doc-link.fitted span {\n",
       "  /* fitted */\n",
       "  background: var(--sklearn-color-fitted-level-0);\n",
       "  border: var(--sklearn-color-fitted-level-3);\n",
       "}\n",
       "\n",
       ".sk-estimator-doc-link:hover span {\n",
       "  display: block;\n",
       "}\n",
       "\n",
       "/* \"?\"-specific style due to the `<a>` HTML tag */\n",
       "\n",
       "#sk-container-id-2 a.estimator_doc_link {\n",
       "  float: right;\n",
       "  font-size: 1rem;\n",
       "  line-height: 1em;\n",
       "  font-family: monospace;\n",
       "  background-color: var(--sklearn-color-background);\n",
       "  border-radius: 1rem;\n",
       "  height: 1rem;\n",
       "  width: 1rem;\n",
       "  text-decoration: none;\n",
       "  /* unfitted */\n",
       "  color: var(--sklearn-color-unfitted-level-1);\n",
       "  border: var(--sklearn-color-unfitted-level-1) 1pt solid;\n",
       "}\n",
       "\n",
       "#sk-container-id-2 a.estimator_doc_link.fitted {\n",
       "  /* fitted */\n",
       "  border: var(--sklearn-color-fitted-level-1) 1pt solid;\n",
       "  color: var(--sklearn-color-fitted-level-1);\n",
       "}\n",
       "\n",
       "/* On hover */\n",
       "#sk-container-id-2 a.estimator_doc_link:hover {\n",
       "  /* unfitted */\n",
       "  background-color: var(--sklearn-color-unfitted-level-3);\n",
       "  color: var(--sklearn-color-background);\n",
       "  text-decoration: none;\n",
       "}\n",
       "\n",
       "#sk-container-id-2 a.estimator_doc_link.fitted:hover {\n",
       "  /* fitted */\n",
       "  background-color: var(--sklearn-color-fitted-level-3);\n",
       "}\n",
       "</style><div id=\"sk-container-id-2\" class=\"sk-top-container\"><div class=\"sk-text-repr-fallback\"><pre>LabelEncoder()</pre><b>In a Jupyter environment, please rerun this cell to show the HTML representation or trust the notebook. <br />On GitHub, the HTML representation is unable to render, please try loading this page with nbviewer.org.</b></div><div class=\"sk-container\" hidden><div class=\"sk-item\"><div class=\"sk-estimator  sk-toggleable\"><input class=\"sk-toggleable__control sk-hidden--visually\" id=\"sk-estimator-id-2\" type=\"checkbox\" checked><label for=\"sk-estimator-id-2\" class=\"sk-toggleable__label  sk-toggleable__label-arrow \">&nbsp;&nbsp;LabelEncoder<a class=\"sk-estimator-doc-link \" rel=\"noreferrer\" target=\"_blank\" href=\"https://scikit-learn.org/1.5/modules/generated/sklearn.preprocessing.LabelEncoder.html\">?<span>Documentation for LabelEncoder</span></a><span class=\"sk-estimator-doc-link \">i<span>Not fitted</span></span></label><div class=\"sk-toggleable__content \"><pre>LabelEncoder()</pre></div> </div></div></div></div>"
      ]
     },
     "execution_count": 36,
     "metadata": {},
     "output_type": "execute_result"
    }
   ],
   "execution_count": 36
  },
  {
   "metadata": {
    "ExecuteTime": {
     "end_time": "2024-09-14T17:20:22.422863Z",
     "start_time": "2024-09-14T17:20:22.417972Z"
    }
   },
   "cell_type": "code",
   "source": "df['Size'].unique()",
   "id": "10cdf3f00eb2dbe9",
   "outputs": [
    {
     "data": {
      "text/plain": [
       "array(['Large', 'Medium', 'Small'], dtype=object)"
      ]
     },
     "execution_count": 37,
     "metadata": {},
     "output_type": "execute_result"
    }
   ],
   "execution_count": 37
  },
  {
   "metadata": {
    "ExecuteTime": {
     "end_time": "2024-09-14T17:20:23.477758Z",
     "start_time": "2024-09-14T17:20:23.473429Z"
    }
   },
   "cell_type": "code",
   "source": "df['Size'].head(20)",
   "id": "299c2d70f1f7aae7",
   "outputs": [
    {
     "data": {
      "text/plain": [
       "0      Large\n",
       "1      Large\n",
       "2     Medium\n",
       "3      Small\n",
       "4      Large\n",
       "5      Large\n",
       "6      Small\n",
       "7      Large\n",
       "8     Medium\n",
       "9      Large\n",
       "10     Large\n",
       "11     Small\n",
       "12     Large\n",
       "13     Large\n",
       "14    Medium\n",
       "15     Small\n",
       "16     Small\n",
       "17    Medium\n",
       "18     Large\n",
       "19     Small\n",
       "Name: Size, dtype: object"
      ]
     },
     "execution_count": 38,
     "metadata": {},
     "output_type": "execute_result"
    }
   ],
   "execution_count": 38
  },
  {
   "metadata": {
    "ExecuteTime": {
     "end_time": "2024-09-14T17:20:25.370480Z",
     "start_time": "2024-09-14T17:20:25.365094Z"
    }
   },
   "cell_type": "code",
   "source": "label_encoder.fit_transform(df1[\"Size\"])",
   "id": "6b76827c9f50858b",
   "outputs": [
    {
     "data": {
      "text/plain": [
       "array([0, 0, 1, ..., 2, 0, 1])"
      ]
     },
     "execution_count": 39,
     "metadata": {},
     "output_type": "execute_result"
    }
   ],
   "execution_count": 39
  },
  {
   "metadata": {
    "ExecuteTime": {
     "end_time": "2024-09-14T17:20:26.575684Z",
     "start_time": "2024-09-14T17:20:26.570441Z"
    }
   },
   "cell_type": "code",
   "source": [
    "df1[\"Size\"] = label_encoder.fit_transform(df[\"Size\"])\n",
    "df1['Size'].head(20)"
   ],
   "id": "5f53b1f1ecf777f1",
   "outputs": [
    {
     "data": {
      "text/plain": [
       "0     0\n",
       "1     0\n",
       "2     1\n",
       "3     2\n",
       "4     0\n",
       "5     0\n",
       "6     2\n",
       "7     0\n",
       "8     1\n",
       "9     0\n",
       "10    0\n",
       "11    2\n",
       "12    0\n",
       "13    0\n",
       "14    1\n",
       "15    2\n",
       "16    2\n",
       "17    1\n",
       "18    0\n",
       "19    2\n",
       "Name: Size, dtype: int64"
      ]
     },
     "execution_count": 40,
     "metadata": {},
     "output_type": "execute_result"
    }
   ],
   "execution_count": 40
  },
  {
   "metadata": {
    "ExecuteTime": {
     "end_time": "2024-09-14T17:20:27.814474Z",
     "start_time": "2024-09-14T17:20:27.809076Z"
    }
   },
   "cell_type": "code",
   "source": [
    "#Show data value counts AdoptionLikelihood \n",
    "df1['AdoptionLikelihood'].value_counts()"
   ],
   "id": "c9fe5a73edbadaa9",
   "outputs": [
    {
     "data": {
      "text/plain": [
       "AdoptionLikelihood\n",
       "0    1348\n",
       "1     659\n",
       "Name: count, dtype: int64"
      ]
     },
     "execution_count": 41,
     "metadata": {},
     "output_type": "execute_result"
    }
   ],
   "execution_count": 41
  },
  {
   "metadata": {
    "ExecuteTime": {
     "end_time": "2024-09-14T17:20:28.982123Z",
     "start_time": "2024-09-14T17:20:28.978122Z"
    }
   },
   "cell_type": "code",
   "source": [
    "# Separate the data of the dataset to divide the data used for training and those used to determine the result values.\n",
    "y = df1['AdoptionLikelihood']\n",
    "X = df1.drop('AdoptionLikelihood', axis=1)"
   ],
   "id": "516b79e059e0e4ae",
   "outputs": [],
   "execution_count": 42
  },
  {
   "metadata": {
    "ExecuteTime": {
     "end_time": "2024-09-14T17:20:30.291615Z",
     "start_time": "2024-09-14T17:20:30.285034Z"
    }
   },
   "cell_type": "code",
   "source": [
    "# Scale features\n",
    "scaler = StandardScaler()\n",
    "X_scaled = scaler.fit_transform(X)"
   ],
   "id": "b78c857e51af87d2",
   "outputs": [],
   "execution_count": 43
  },
  {
   "metadata": {
    "ExecuteTime": {
     "end_time": "2024-09-14T17:20:31.481326Z",
     "start_time": "2024-09-14T17:20:31.475544Z"
    }
   },
   "cell_type": "code",
   "source": [
    "# Divide the data to prepare for training in testing.\n",
    "X_train, X_test, y_train, y_test = train_test_split(X_scaled, y, test_size=0.4, random_state=42,stratify=y)\n",
    "print(X_train.shape, X_test.shape, y_train.shape, y_test.shape)"
   ],
   "id": "d78a2e9793cdb780",
   "outputs": [
    {
     "name": "stdout",
     "output_type": "stream",
     "text": [
      "(1204, 20) (803, 20) (1204,) (803,)\n"
     ]
    }
   ],
   "execution_count": 44
  },
  {
   "metadata": {
    "ExecuteTime": {
     "end_time": "2024-09-14T17:20:32.682085Z",
     "start_time": "2024-09-14T17:20:32.433716Z"
    }
   },
   "cell_type": "code",
   "source": [
    "#Use SMOTE for ixed an issue with unbalanced classes in the dataset.\n",
    "from imblearn.over_sampling import SMOTE\n",
    "smote = SMOTE()\n",
    "X_resampled, y_resampled = smote.fit_resample(X_train, y_train)\n",
    "y_resampled.value_counts()"
   ],
   "id": "e5832508029404f8",
   "outputs": [
    {
     "data": {
      "text/plain": [
       "AdoptionLikelihood\n",
       "0    809\n",
       "1    809\n",
       "Name: count, dtype: int64"
      ]
     },
     "execution_count": 45,
     "metadata": {},
     "output_type": "execute_result"
    }
   ],
   "execution_count": 45
  },
  {
   "metadata": {
    "ExecuteTime": {
     "end_time": "2024-09-14T17:20:33.829853Z",
     "start_time": "2024-09-14T17:20:33.823853Z"
    }
   },
   "cell_type": "code",
   "source": "y",
   "id": "fd31e64cec1a61aa",
   "outputs": [
    {
     "data": {
      "text/plain": [
       "0       0\n",
       "1       0\n",
       "2       0\n",
       "3       0\n",
       "4       0\n",
       "       ..\n",
       "2002    1\n",
       "2003    0\n",
       "2004    0\n",
       "2005    0\n",
       "2006    0\n",
       "Name: AdoptionLikelihood, Length: 2007, dtype: int64"
      ]
     },
     "execution_count": 46,
     "metadata": {},
     "output_type": "execute_result"
    }
   ],
   "execution_count": 46
  },
  {
   "metadata": {
    "ExecuteTime": {
     "end_time": "2024-09-14T17:20:36.890200Z",
     "start_time": "2024-09-14T17:20:36.884250Z"
    }
   },
   "cell_type": "code",
   "source": [
    "# Define classifiers and their parameters for GridSearch\n",
    "classifiers = {\n",
    "    'LogisticRegression': (LogisticRegression(), {\n",
    "        'penalty': ['l1', 'l2'],\n",
    "        'C': [0.01, 0.1, 1, 10, 100],\n",
    "        'solver': ['liblinear'],\n",
    "        'max_iter': [100, 200, 300]\n",
    "    }),\n",
    "    'SVM': (SVC(), {\n",
    "        'C': [10, 100],\n",
    "        'kernel': ['linear', 'rbf'],\n",
    "        'gamma': ['scale', 'auto'],\n",
    "        'degree': [2, 3, 4]\n",
    "    }),\n",
    "    'KNeighbors': (KNeighborsClassifier(), {\n",
    "        'n_neighbors': [3, 5, 7],\n",
    "        'weights': ['uniform', 'distance'],\n",
    "        'metric': ['euclidean', 'manhattan'],\n",
    "        'p': [1, 2]\n",
    "    }),\n",
    "    'NaiveBayes': (GaussianNB(), {\n",
    "        'var_smoothing': [1e-9, 1e-8, 1e-7]\n",
    "    }), 'ANN': (MLPClassifier(), {\n",
    "        'hidden_layer_sizes': [(256, 128, 128, 32)], \n",
    "        'activation': ['logistic'],              \n",
    "        'solver': ['sgd'],                       \n",
    "        'learning_rate_init': [0.1],             \n",
    "        'batch_size': [128],                     \n",
    "        'max_iter': [1000]  \n",
    "    \n",
    "    }),'RandomForest': (RandomForestClassifier(), {\n",
    "        'n_estimators': [50, 100, 200],\n",
    "        'max_depth': [None, 10, 20, 30],\n",
    "        'min_samples_split': [2, 5, 10],\n",
    "        'min_samples_leaf': [1, 2, 4]\n",
    "                       \n",
    "    })\n",
    "}\n"
   ],
   "id": "386978b8e7883733",
   "outputs": [],
   "execution_count": 48
  },
  {
   "metadata": {
    "ExecuteTime": {
     "end_time": "2024-09-14T17:20:38.796171Z",
     "start_time": "2024-09-14T17:20:38.792709Z"
    }
   },
   "cell_type": "code",
   "source": [
    "# scoring metrics\n",
    "scoring = {'accuracy': 'accuracy',\n",
    "           'precision': 'precision_weighted',\n",
    "           'recall': 'recall_weighted',\n",
    "           'f1': 'f1_weighted'}"
   ],
   "id": "e43d6d9ead72b500",
   "outputs": [],
   "execution_count": 49
  },
  {
   "metadata": {
    "ExecuteTime": {
     "end_time": "2024-09-14T17:21:12.549587Z",
     "start_time": "2024-09-14T17:20:40.230858Z"
    }
   },
   "cell_type": "code",
   "source": [
    "# Import the necessary module\n",
    "from sklearn.model_selection import StratifiedKFold\n",
    "\n",
    "best_models = {}\n",
    "for classifier_name, (classifier, params) in classifiers.items():\n",
    "    print(f\"Training {classifier_name}...\")\n",
    "\n",
    "    # Create GridSearchCV\n",
    "    grid_search = GridSearchCV(estimator=classifier, param_grid=params,\n",
    "                               cv=StratifiedKFold(n_splits=5, shuffle=True, random_state=42),\n",
    "                               scoring='accuracy', refit=True, verbose=1, n_jobs=-1)\n",
    "\n",
    "    # Fit GridSearchCV with resampled training data\n",
    "    grid_search.fit(X_train, y_train)\n",
    "\n",
    "    # Save the best model\n",
    "    best_models[classifier_name] = grid_search.best_estimator_\n",
    "\n",
    "    # Print the best parameters and accuracy\n",
    "    print(f\"Best Parameters for {classifier_name}: {grid_search.best_params_}\")\n",
    "    print(f\"Best Accuracy for {classifier_name}: {grid_search.best_score_:.4f}\\n\")"
   ],
   "id": "18af8e423a90cc76",
   "outputs": [
    {
     "name": "stdout",
     "output_type": "stream",
     "text": [
      "Training LogisticRegression...\n",
      "Fitting 5 folds for each of 30 candidates, totalling 150 fits\n",
      "Best Parameters for LogisticRegression: {'C': 0.1, 'max_iter': 100, 'penalty': 'l1', 'solver': 'liblinear'}\n",
      "Best Accuracy for LogisticRegression: 0.7525\n",
      "\n",
      "Training SVM...\n",
      "Fitting 5 folds for each of 24 candidates, totalling 120 fits\n",
      "Best Parameters for SVM: {'C': 10, 'degree': 2, 'gamma': 'scale', 'kernel': 'rbf'}\n",
      "Best Accuracy for SVM: 0.8546\n",
      "\n",
      "Training KNeighbors...\n",
      "Fitting 5 folds for each of 24 candidates, totalling 120 fits\n",
      "Best Parameters for KNeighbors: {'metric': 'manhattan', 'n_neighbors': 7, 'p': 1, 'weights': 'distance'}\n",
      "Best Accuracy for KNeighbors: 0.7550\n",
      "\n",
      "Training NaiveBayes...\n",
      "Fitting 5 folds for each of 3 candidates, totalling 15 fits\n",
      "Best Parameters for NaiveBayes: {'var_smoothing': 1e-09}\n",
      "Best Accuracy for NaiveBayes: 0.7783\n",
      "\n",
      "Training ANN...\n",
      "Fitting 5 folds for each of 1 candidates, totalling 5 fits\n",
      "Best Parameters for ANN: {'activation': 'logistic', 'batch_size': 128, 'hidden_layer_sizes': (256, 128, 128, 32), 'learning_rate_init': 0.1, 'max_iter': 1000, 'solver': 'sgd'}\n",
      "Best Accuracy for ANN: 0.6719\n",
      "\n",
      "Training RandomForest...\n",
      "Fitting 5 folds for each of 108 candidates, totalling 540 fits\n",
      "Best Parameters for RandomForest: {'max_depth': 20, 'min_samples_leaf': 1, 'min_samples_split': 5, 'n_estimators': 200}\n",
      "Best Accuracy for RandomForest: 0.9344\n",
      "\n"
     ]
    }
   ],
   "execution_count": 50
  },
  {
   "metadata": {
    "ExecuteTime": {
     "end_time": "2024-09-14T17:21:15.972645Z",
     "start_time": "2024-09-14T17:21:15.639727Z"
    }
   },
   "cell_type": "code",
   "source": [
    "import matplotlib.pyplot as plt\n",
    "from sklearn.metrics import accuracy_score, f1_score, precision_score, recall_score, roc_auc_score, roc_curve\n",
    "from sklearn.preprocessing import label_binarize\n",
    "\n",
    "# Assuming binary or multiclass classification\n",
    "n_classes = len(set(y_test))  # number of classes\n",
    "\n",
    "# Binarize the output for multiclass\n",
    "y_test_bin = label_binarize(y_test, classes=list(range(n_classes)))\n",
    "\n",
    "# Plotting setup\n",
    "plt.figure(figsize=(10, 8))\n",
    "\n",
    "for classifier_name, best_model in best_models.items():\n",
    "    print(f\"Evaluating {classifier_name} on the test set...\")\n",
    "\n",
    "    y_pred = best_model.predict(X_test)\n",
    "\n",
    "    accuracy = accuracy_score(y_test, y_pred)\n",
    "    f1 = f1_score(y_test, y_pred, average='weighted')\n",
    "    precision = precision_score(y_test, y_pred, average='weighted')\n",
    "    recall = recall_score(y_test, y_pred, average='weighted')\n",
    "\n",
    "    # If the model supports probability prediction\n",
    "    if hasattr(best_model, \"predict_proba\"):\n",
    "        y_pred_prob = best_model.predict_proba(X_test)\n",
    "        if n_classes == 2:  # Binary classification case\n",
    "            roc_auc = roc_auc_score(y_test, y_pred_prob[:, 1])\n",
    "            fpr, tpr, _ = roc_curve(y_test, y_pred_prob[:, 1])\n",
    "        else:  # Multiclass classification\n",
    "            roc_auc = roc_auc_score(y_test_bin, y_pred_prob, average=\"weighted\", multi_class=\"ovr\")\n",
    "            fpr, tpr, _ = roc_curve(y_test_bin.ravel(), y_pred_prob.ravel())\n",
    "\n",
    "        print(f\"Test ROC AUC for {classifier_name}: {roc_auc:.4f}\")\n",
    "\n",
    "        # Plot ROC curve\n",
    "        plt.plot(fpr, tpr, label=f'{classifier_name} (AUC = {roc_auc:.4f})')\n",
    "\n",
    "    print(f\"Test Accuracy for {classifier_name}: {accuracy:.4f}\")\n",
    "    print(f\"Test F1 Score for {classifier_name}: {f1:.4f}\")\n",
    "    print(f\"Test Precision for {classifier_name}: {precision:.4f}\")\n",
    "    print(f\"Test Recall for {classifier_name}: {recall:.4f}\\n\")\n",
    "\n",
    "# Customize and show plot\n",
    "plt.plot([0, 1], [0, 1], 'k--', lw=2)\n",
    "plt.xlim([0.0, 1.0])\n",
    "plt.ylim([0.0, 1.05])\n",
    "plt.xlabel('False Positive Rate')\n",
    "plt.ylabel('True Positive Rate')\n",
    "plt.title('Receiver Operating Characteristic (ROC) Curve')\n",
    "plt.legend(loc=\"lower right\")\n",
    "plt.show()"
   ],
   "id": "7fe492059e9fb85a",
   "outputs": [
    {
     "name": "stdout",
     "output_type": "stream",
     "text": [
      "Evaluating LogisticRegression on the test set...\n",
      "Test ROC AUC for LogisticRegression: 0.8029\n",
      "Test Accuracy for LogisticRegression: 0.7597\n",
      "Test F1 Score for LogisticRegression: 0.7515\n",
      "Test Precision for LogisticRegression: 0.7513\n",
      "Test Recall for LogisticRegression: 0.7597\n",
      "\n",
      "Evaluating SVM on the test set...\n",
      "Test Accuracy for SVM: 0.8555\n",
      "Test F1 Score for SVM: 0.8542\n",
      "Test Precision for SVM: 0.8538\n",
      "Test Recall for SVM: 0.8555\n",
      "\n",
      "Evaluating KNeighbors on the test set...\n",
      "Test ROC AUC for KNeighbors: 0.7687\n",
      "Test Accuracy for KNeighbors: 0.7335\n",
      "Test F1 Score for KNeighbors: 0.7284\n",
      "Test Precision for KNeighbors: 0.7261\n",
      "Test Recall for KNeighbors: 0.7335\n",
      "\n",
      "Evaluating NaiveBayes on the test set...\n",
      "Test ROC AUC for NaiveBayes: 0.8082\n",
      "Test Accuracy for NaiveBayes: 0.7671\n",
      "Test F1 Score for NaiveBayes: 0.7574\n",
      "Test Precision for NaiveBayes: 0.7592\n",
      "Test Recall for NaiveBayes: 0.7671\n",
      "\n",
      "Evaluating ANN on the test set...\n",
      "Test ROC AUC for ANN: 0.6362\n",
      "Test Accuracy for ANN: 0.6712\n",
      "Test F1 Score for ANN: 0.5392\n",
      "Test Precision for ANN: 0.4506\n",
      "Test Recall for ANN: 0.6712\n",
      "\n",
      "Evaluating RandomForest on the test set...\n",
      "Test ROC AUC for RandomForest: 0.9207\n",
      "Test Accuracy for RandomForest: 0.9191\n",
      "Test F1 Score for RandomForest: 0.9182\n",
      "Test Precision for RandomForest: 0.9187\n",
      "Test Recall for RandomForest: 0.9191\n",
      "\n"
     ]
    },
    {
     "name": "stderr",
     "output_type": "stream",
     "text": [
      "C:\\Users\\Aurora\\PycharmProjects\\main.py\\.venv\\Lib\\site-packages\\sklearn\\metrics\\_classification.py:1531: UndefinedMetricWarning: Precision is ill-defined and being set to 0.0 in labels with no predicted samples. Use `zero_division` parameter to control this behavior.\n",
      "  _warn_prf(average, modifier, f\"{metric.capitalize()} is\", len(result))\n"
     ]
    },
    {
     "data": {
      "text/plain": [
       "<Figure size 1000x800 with 1 Axes>"
      ],
      "image/png": "[encoded data removed]"
     },
     "metadata": {},
     "output_type": "display_data"
    }
   ],
   "execution_count": 51
  },
  {
   "metadata": {
    "ExecuteTime": {
     "end_time": "2024-09-14T17:21:22.435278Z",
     "start_time": "2024-09-14T17:21:22.387848Z"
    }
   },
   "cell_type": "code",
   "source": [
    "# # Save the model\n",
    "import joblib\n",
    "import os\n",
    "\n",
    "# Create the directory if it doesn't exist\n",
    "if not os.path.exists('models'):\n",
    "    os.makedirs('models')\n",
    "\n",
    "# Save the best model as a pickle file and name it with models_label\n",
    "joblib.dump(best_model, 'best_model_Rb_nobinned.pkl')\n",
    "\n",
    "# Define the mapping variable and assign it a value\n",
    "mapping = {'key1': 'value1', 'key2': 'value2'} # Example mapping, replace with your actual mapping\n",
    "joblib.dump(mapping, 'mapping.pkl') # Save the mapping variable\n",
    "\n",
    "\n",
    "# Save the column names as a pickle file\n",
    "joblib.dump(X.columns, 'columns_Rb_nobinned.pkl')"
   ],
   "id": "6cf6a114a1eb732d",
   "outputs": [
    {
     "data": {
      "text/plain": [
       "['models/columns_Rb_nobinned.pkl']"
      ]
     },
     "execution_count": 52,
     "metadata": {},
     "output_type": "execute_result"
    }
   ],
   "execution_count": 52
  },
  {
   "metadata": {
    "ExecuteTime": {
     "end_time": "2024-09-14T17:21:24.685190Z",
     "start_time": "2024-09-14T17:21:24.633700Z"
    }
   },
   "cell_type": "code",
   "source": [
    "import joblib\n",
    "\n",
    "# Load the best model\n",
    "best_model_loaded = joblib.load('best_model_Rb_nobinned.pkl')\n",
    "\n",
    "# Load the mapping (if saved)\n",
    "mapping_loaded = joblib.load('mapping.pkl')\n",
    "\n",
    "# Load the column names (if saved)\n",
    "columns_loaded = joblib.load('columns_Rb_nobinned.pkl')\n",
    "\n",
    "# Print the loaded model, mapping, and column names\n",
    "print(\"Best Model Loaded:\\n\", best_model_loaded)\n",
    "print(\"\\nMapping Loaded:\\n\", mapping_loaded)\n",
    "print(\"\\nColumn Names Loaded:\\n\", columns_loaded)\n"
   ],
   "id": "b6bc5d7138b3af41",
   "outputs": [
    {
     "name": "stdout",
     "output_type": "stream",
     "text": [
      "Best Model Loaded:\n",
      " RandomForestClassifier(max_depth=20, min_samples_split=5, n_estimators=200)\n",
      "\n",
      "Mapping Loaded:\n",
      " {'key1': 'value1', 'key2': 'value2'}\n",
      "\n",
      "Column Names Loaded:\n",
      " Index(['AgeMonths', 'Size', 'WeightKg', 'Vaccinated', 'HealthCondition',\n",
      "       'TimeInShelterDays', 'AdoptionFee', 'PreviousOwner',\n",
      "       'Breed_Golden Retriever', 'Breed_Labrador', 'Breed_Parakeet',\n",
      "       'Breed_Persian', 'Breed_Poodle', 'Breed_Rabbit', 'Breed_Siamese',\n",
      "       'Color_Black', 'Color_Brown', 'Color_Gray', 'Color_Orange',\n",
      "       'Color_White'],\n",
      "      dtype='object')\n"
     ]
    }
   ],
   "execution_count": 53
  },
  {
   "metadata": {
    "ExecuteTime": {
     "end_time": "2024-09-14T17:21:32.461648Z",
     "start_time": "2024-09-14T17:21:29.882242Z"
    }
   },
   "cell_type": "code",
   "source": [
    "#drawing RandomForestClassifier(0)\n",
    "from sklearn.tree import plot_tree\n",
    "import matplotlib.pyplot as plt\n",
    "estimator = best_model_loaded.estimators_[0]  # best_model_loaded is RandomForestClassifier\n",
    "plt.figure(figsize=(20, 10)) \n",
    "plot_tree(estimator, feature_names=columns_loaded, class_names=True, filled=True)\n",
    "plt.show()\n"
   ],
   "id": "d698b45bab86cda5",
   "outputs": [
    {
     "data": {
      "text/plain": [
       "<Figure size 2000x1000 with 1 Axes>"
      ],
      "image/png": "[encoded data removed]"
     },
     "metadata": {},
     "output_type": "display_data"
    }
   ],
   "execution_count": 54
  },
  {
   "metadata": {
    "ExecuteTime": {
     "end_time": "2024-09-14T17:16:08.746321Z",
     "start_time": "2024-09-14T17:16:08.743808Z"
    }
   },
   "cell_type": "code",
   "source": "",
   "id": "e0b2188b4114f450",
   "outputs": [],
   "execution_count": null
  },
  {
   "metadata": {
    "ExecuteTime": {
     "end_time": "2024-09-14T17:16:08.767636Z",
     "start_time": "2024-09-14T17:16:08.765167Z"
    }
   },
   "cell_type": "code",
   "source": "",
   "id": "d98cfc4305ecc696",
   "outputs": [],
   "execution_count": null
  },
  {
   "metadata": {
    "ExecuteTime": {
     "end_time": "2024-09-14T17:16:08.895686Z",
     "start_time": "2024-09-14T17:16:08.893080Z"
    }
   },
   "cell_type": "code",
   "source": "",
   "id": "9a9e5a25e1aeba85",
   "outputs": [],
   "execution_count": null
  },
  {
   "metadata": {
    "ExecuteTime": {
     "end_time": "2024-09-14T17:16:08.914684Z",
     "start_time": "2024-09-14T17:16:08.912684Z"
    }
   },
   "cell_type": "code",
   "source": "",
   "id": "c033f89db6819991",
   "outputs": [],
   "execution_count": null
  },
  {
   "metadata": {
    "ExecuteTime": {
     "end_time": "2024-09-14T17:16:08.932127Z",
     "start_time": "2024-09-14T17:16:08.930163Z"
    }
   },
   "cell_type": "code",
   "source": "",
   "id": "9eaaf14880e39248",
   "outputs": [],
   "execution_count": null
  },
  {
   "metadata": {
    "ExecuteTime": {
     "end_time": "2024-09-14T17:16:08.970971Z",
     "start_time": "2024-09-14T17:16:08.969132Z"
    }
   },
   "cell_type": "code",
   "source": "",
   "id": "7f86cf9cce91903e",
   "outputs": [],
   "execution_count": null
  },
  {
   "metadata": {
    "ExecuteTime": {
     "end_time": "2024-09-14T17:16:08.984028Z",
     "start_time": "2024-09-14T17:16:08.982028Z"
    }
   },
   "cell_type": "code",
   "source": "",
   "id": "2c558ed8efa96246",
   "outputs": [],
   "execution_count": null
  },
  {
   "metadata": {
    "ExecuteTime": {
     "end_time": "2024-09-14T17:16:08.997899Z",
     "start_time": "2024-09-14T17:16:08.995269Z"
    }
   },
   "cell_type": "code",
   "source": "",
   "id": "f5aed25493ad886f",
   "outputs": [],
   "execution_count": null
  },
  {
   "metadata": {
    "ExecuteTime": {
     "end_time": "2024-09-14T17:16:09.020795Z",
     "start_time": "2024-09-14T17:16:09.018744Z"
    }
   },
   "cell_type": "code",
   "source": "",
   "id": "cd8b2cea7d44b547",
   "outputs": [],
   "execution_count": null
  },
  {
   "metadata": {
    "ExecuteTime": {
     "end_time": "2024-09-14T17:16:09.038835Z",
     "start_time": "2024-09-14T17:16:09.036692Z"
    }
   },
   "cell_type": "code",
   "source": "",
   "id": "2a77735b55a18a85",
   "outputs": [],
   "execution_count": null
  },
  {
   "metadata": {
    "ExecuteTime": {
     "end_time": "2024-09-14T17:16:09.054674Z",
     "start_time": "2024-09-14T17:16:09.052674Z"
    }
   },
   "cell_type": "code",
   "source": "",
   "id": "a143fd9cf663e10b",
   "outputs": [],
   "execution_count": null
  },
  {
   "metadata": {
    "ExecuteTime": {
     "end_time": "2024-09-14T17:16:09.068678Z",
     "start_time": "2024-09-14T17:16:09.066497Z"
    }
   },
   "cell_type": "code",
   "source": "",
   "id": "26defbb358c0ce3f",
   "outputs": [],
   "execution_count": null
  },
  {
   "metadata": {
    "ExecuteTime": {
     "end_time": "2024-09-14T17:16:09.082562Z",
     "start_time": "2024-09-14T17:16:09.079615Z"
    }
   },
   "cell_type": "code",
   "source": "",
   "id": "5237a57113b8143e",
   "outputs": [],
   "execution_count": null
  },
  {
   "metadata": {
    "ExecuteTime": {
     "end_time": "2024-09-14T17:16:09.099911Z",
     "start_time": "2024-09-14T17:16:09.097560Z"
    }
   },
   "cell_type": "code",
   "source": "",
   "id": "19c2081cda819419",
   "outputs": [],
   "execution_count": null
  },
  {
   "metadata": {
    "ExecuteTime": {
     "end_time": "2024-09-14T17:16:09.117318Z",
     "start_time": "2024-09-14T17:16:09.115288Z"
    }
   },
   "cell_type": "code",
   "source": "",
   "id": "ae817a98e8132a57",
   "outputs": [],
   "execution_count": null
  },
  {
   "metadata": {
    "ExecuteTime": {
     "end_time": "2024-09-14T17:16:09.131382Z",
     "start_time": "2024-09-14T17:16:09.128124Z"
    }
   },
   "cell_type": "code",
   "source": "",
   "id": "818e815a5d750cf8",
   "outputs": [],
   "execution_count": null
  },
  {
   "metadata": {
    "ExecuteTime": {
     "end_time": "2024-09-14T17:16:09.146287Z",
     "start_time": "2024-09-14T17:16:09.142990Z"
    }
   },
   "cell_type": "code",
   "source": "",
   "id": "38ad46ff3f4d5cad",
   "outputs": [],
   "execution_count": null
  },
  {
   "metadata": {
    "ExecuteTime": {
     "end_time": "2024-09-14T17:16:09.160483Z",
     "start_time": "2024-09-14T17:16:09.158986Z"
    }
   },
   "cell_type": "code",
   "source": "",
   "id": "74d0a12aec4a0ef6",
   "outputs": [],
   "execution_count": null
  },
  {
   "metadata": {
    "ExecuteTime": {
     "end_time": "2024-09-14T17:16:09.171560Z",
     "start_time": "2024-09-14T17:16:09.170064Z"
    }
   },
   "cell_type": "code",
   "source": "",
   "id": "f04d0237dab7f42a",
   "outputs": [],
   "execution_count": null
  },
  {
   "metadata": {
    "ExecuteTime": {
     "end_time": "2024-09-14T17:16:09.200657Z",
     "start_time": "2024-09-14T17:16:09.198452Z"
    }
   },
   "cell_type": "code",
   "source": "",
   "id": "879d0b311e9a8b18",
   "outputs": [],
   "execution_count": null
  },
  {
   "metadata": {
    "ExecuteTime": {
     "end_time": "2024-09-14T17:16:09.206542Z",
     "start_time": "2024-09-14T17:16:09.204653Z"
    }
   },
   "cell_type": "code",
   "source": "",
   "id": "4660aaa9d5859bc3",
   "outputs": [],
   "execution_count": null
  },
  {
   "metadata": {
    "ExecuteTime": {
     "end_time": "2024-09-14T17:16:09.217323Z",
     "start_time": "2024-09-14T17:16:09.215540Z"
    }
   },
   "cell_type": "code",
   "source": "",
   "id": "faa511fed5660560",
   "outputs": [],
   "execution_count": null
  },
  {
   "metadata": {
    "ExecuteTime": {
     "end_time": "2024-09-14T17:16:09.229282Z",
     "start_time": "2024-09-14T17:16:09.227345Z"
    }
   },
   "cell_type": "code",
   "source": "",
   "id": "463712af64c11bb7",
   "outputs": [],
   "execution_count": null
  },
  {
   "metadata": {
    "ExecuteTime": {
     "end_time": "2024-09-14T17:16:09.241189Z",
     "start_time": "2024-09-14T17:16:09.238758Z"
    }
   },
   "cell_type": "code",
   "source": "",
   "id": "33b9830bb5282f88",
   "outputs": [],
   "execution_count": null
  },
  {
   "metadata": {
    "ExecuteTime": {
     "end_time": "2024-09-14T17:16:09.253016Z",
     "start_time": "2024-09-14T17:16:09.250619Z"
    }
   },
   "cell_type": "code",
   "source": "",
   "id": "b3a2cf028862f986",
   "outputs": [],
   "execution_count": null
  },
  {
   "metadata": {
    "ExecuteTime": {
     "end_time": "2024-09-14T17:16:09.265484Z",
     "start_time": "2024-09-14T17:16:09.263158Z"
    }
   },
   "cell_type": "code",
   "source": "",
   "id": "237b51de97fbd0f9",
   "outputs": [],
   "execution_count": null
  },
  {
   "metadata": {
    "ExecuteTime": {
     "end_time": "2024-09-14T17:16:09.277334Z",
     "start_time": "2024-09-14T17:16:09.275186Z"
    }
   },
   "cell_type": "code",
   "source": "",
   "id": "d131e38d465682f7",
   "outputs": [],
   "execution_count": null
  },
  {
   "metadata": {
    "ExecuteTime": {
     "end_time": "2024-09-14T17:16:09.290654Z",
     "start_time": "2024-09-14T17:16:09.288827Z"
    }
   },
   "cell_type": "code",
   "source": "",
   "id": "38131bb07b0fec97",
   "outputs": [],
   "execution_count": null
  },
  {
   "metadata": {
    "ExecuteTime": {
     "end_time": "2024-09-14T17:16:09.302273Z",
     "start_time": "2024-09-14T17:16:09.300299Z"
    }
   },
   "cell_type": "code",
   "source": "",
   "id": "13aea496d682b011",
   "outputs": [],
   "execution_count": null
  },
  {
   "metadata": {
    "ExecuteTime": {
     "end_time": "2024-09-14T17:16:09.316126Z",
     "start_time": "2024-09-14T17:16:09.314196Z"
    }
   },
   "cell_type": "code",
   "source": "",
   "id": "98d429628a98c547",
   "outputs": [],
   "execution_count": null
  },
  {
   "metadata": {},
   "cell_type": "code",
   "outputs": [],
   "execution_count": null,
   "source": "",
   "id": "e04e8e6009e27d54"
  }
 ],
 "metadata": {
  "kernelspec": {
   "display_name": "Python 3",
   "language": "python",
   "name": "python3"
  },
  "language_info": {
   "codemirror_mode": {
    "name": "ipython",
    "version": 2
   },
   "file_extension": ".py",
   "mimetype": "text/x-python",
   "name": "python",
   "nbconvert_exporter": "python",
   "pygments_lexer": "ipython2",
   "version": "2.7.6"
  }
 },
 "nbformat": 4,
 "nbformat_minor": 5
}
